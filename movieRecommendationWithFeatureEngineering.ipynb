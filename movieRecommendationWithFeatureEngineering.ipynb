{
  "nbformat": 4,
  "nbformat_minor": 0,
  "metadata": {
    "colab": {
      "name": "movieRecommendationWithFeatureEngineering.ipynb",
      "provenance": [],
      "collapsed_sections": [],
      "toc_visible": true,
      "machine_shape": "hm"
    },
    "kernelspec": {
      "name": "python3",
      "display_name": "Python 3"
    },
    "accelerator": "GPU"
  },
  "cells": [
    {
      "cell_type": "code",
      "metadata": {
        "colab": {
          "base_uri": "https://localhost:8080/"
        },
        "id": "qiLwSx1u4cxW",
        "outputId": "ccbd2be3-2e72-4e9e-a926-df4ae971cbc3"
      },
      "source": [
        "from google.colab import drive\n",
        "drive.mount('/content/drive')"
      ],
      "execution_count": null,
      "outputs": [
        {
          "output_type": "stream",
          "text": [
            "Mounted at /content/drive\n"
          ],
          "name": "stdout"
        }
      ]
    },
    {
      "cell_type": "code",
      "metadata": {
        "colab": {
          "base_uri": "https://localhost:8080/"
        },
        "id": "wrPl4SGgw2Zl",
        "outputId": "6650000b-b6bd-4df6-d114-cd30b11a478c"
      },
      "source": [
        "!pip install surprise\n",
        "\n"
      ],
      "execution_count": null,
      "outputs": [
        {
          "output_type": "stream",
          "text": [
            "Collecting surprise\n",
            "  Downloading https://files.pythonhosted.org/packages/61/de/e5cba8682201fcf9c3719a6fdda95693468ed061945493dea2dd37c5618b/surprise-0.1-py2.py3-none-any.whl\n",
            "Collecting scikit-surprise\n",
            "\u001b[?25l  Downloading https://files.pythonhosted.org/packages/97/37/5d334adaf5ddd65da99fc65f6507e0e4599d092ba048f4302fe8775619e8/scikit-surprise-1.1.1.tar.gz (11.8MB)\n",
            "\u001b[K     |████████████████████████████████| 11.8MB 8.0MB/s \n",
            "\u001b[?25hRequirement already satisfied: joblib>=0.11 in /usr/local/lib/python3.7/dist-packages (from scikit-surprise->surprise) (1.0.1)\n",
            "Requirement already satisfied: numpy>=1.11.2 in /usr/local/lib/python3.7/dist-packages (from scikit-surprise->surprise) (1.19.5)\n",
            "Requirement already satisfied: scipy>=1.0.0 in /usr/local/lib/python3.7/dist-packages (from scikit-surprise->surprise) (1.4.1)\n",
            "Requirement already satisfied: six>=1.10.0 in /usr/local/lib/python3.7/dist-packages (from scikit-surprise->surprise) (1.15.0)\n",
            "Building wheels for collected packages: scikit-surprise\n",
            "  Building wheel for scikit-surprise (setup.py) ... \u001b[?25l\u001b[?25hdone\n",
            "  Created wheel for scikit-surprise: filename=scikit_surprise-1.1.1-cp37-cp37m-linux_x86_64.whl size=1617558 sha256=3afbbb5e95d167d3520cc497daca5c3129822b4ed404e568952a5b14d696c4ef\n",
            "  Stored in directory: /root/.cache/pip/wheels/78/9c/3d/41b419c9d2aff5b6e2b4c0fc8d25c538202834058f9ed110d0\n",
            "Successfully built scikit-surprise\n",
            "Installing collected packages: scikit-surprise, surprise\n",
            "Successfully installed scikit-surprise-1.1.1 surprise-0.1\n"
          ],
          "name": "stdout"
        }
      ]
    },
    {
      "cell_type": "code",
      "metadata": {
        "id": "t7XAeiNi6owX"
      },
      "source": [
        "import pandas as pd\n",
        "import numpy as np\n",
        "import matplotlib.pyplot as plt\n",
        "import seaborn as sns\n",
        "from scipy import stats\n",
        "from ast import literal_eval\n",
        "from sklearn.feature_extraction.text import TfidfVectorizer, CountVectorizer\n",
        "from sklearn.metrics.pairwise import linear_kernel, cosine_similarity\n",
        "from nltk.stem.snowball import SnowballStemmer\n",
        "from nltk.stem.wordnet import WordNetLemmatizer\n",
        "from nltk.corpus import wordnet\n",
        "from surprise import Reader, Dataset, SVD,accuracy\n",
        "from sklearn.model_selection import train_test_split\n"
      ],
      "execution_count": null,
      "outputs": []
    },
    {
      "cell_type": "code",
      "metadata": {
        "id": "2hajiNHH5jMT",
        "colab": {
          "base_uri": "https://localhost:8080/"
        },
        "outputId": "e342d6b6-09b2-49a4-e78d-adc2376fe32a"
      },
      "source": [
        "data_dir = \"/content/drive/MyDrive/cs686/ml-latest-small/\"\n",
        "movies_dir=data_dir+\"movies.csv\"\n",
        "rating_dir = data_dir+\"ratings.csv\"\n",
        "tags_dir = data_dir+\"tags.csv\"\n",
        "links_dir=data_dir+\"links.csv\"\n",
        "credits_dir = data_dir+\"credits.csv\"\n",
        "movie_meta_dir = data_dir + \"movies_metadata.csv\"\n",
        "keyword_dir = data_dir + \"keywords.csv\"\n",
        "\n",
        "movies = pd.read_csv(movies_dir)\n",
        "rating = pd.read_csv(rating_dir)\n",
        "tags = pd.read_csv(tags_dir)\n",
        "links = pd.read_csv(links_dir)\n",
        "credits=pd.read_csv(credits_dir)\n",
        "movies_metadata = pd.read_csv(movie_meta_dir)\n",
        "keywords = pd.read_csv(keyword_dir)\n"
      ],
      "execution_count": null,
      "outputs": [
        {
          "output_type": "stream",
          "text": [
            "/usr/local/lib/python3.7/dist-packages/IPython/core/interactiveshell.py:2718: DtypeWarning: Columns (10) have mixed types.Specify dtype option on import or set low_memory=False.\n",
            "  interactivity=interactivity, compiler=compiler, result=result)\n"
          ],
          "name": "stderr"
        }
      ]
    },
    {
      "cell_type": "markdown",
      "metadata": {
        "id": "Dd2zviNl2zku"
      },
      "source": [
        "Data exploratory + data visualization"
      ]
    },
    {
      "cell_type": "code",
      "metadata": {
        "colab": {
          "base_uri": "https://localhost:8080/",
          "height": 295
        },
        "id": "6cK_TifWpWcK",
        "outputId": "f39f1344-428b-49de-eb20-cd1e60fef828"
      },
      "source": [
        "no_user_voted = merge_rating.groupby('movieId')['rating'].agg('count')\n",
        "no_movies_voted = merge_rating.groupby('userId')['rating'].agg('count')\n",
        "f,ax = plt.subplots(1,1,figsize=(16,4))\n",
        "plt.scatter(no_movies_voted.index,no_movies_voted,color='lightblue')\n",
        "plt.axhline(y=50,color='r')\n",
        "plt.xlabel('UserId')\n",
        "plt.ylabel('Number of votes by user')\n",
        "plt.title('Number of movie a particular user rates')\n",
        "plt.show()"
      ],
      "execution_count": null,
      "outputs": [
        {
          "output_type": "display_data",
          "data": {
            "image/png": "[encoded data removed]",
            "text/plain": [
              "<Figure size 1152x288 with 1 Axes>"
            ]
          },
          "metadata": {
            "tags": [],
            "needs_background": "light"
          }
        }
      ]
    },
    {
      "cell_type": "code",
      "metadata": {
        "colab": {
          "base_uri": "https://localhost:8080/",
          "height": 295
        },
        "id": "2MWlBnwgs9DC",
        "outputId": "63b67f2d-c3ca-4a91-ef74-ea450de6ffe0"
      },
      "source": [
        "f,ax = plt.subplots(1,1,figsize=(16,4))\n",
        "plt.scatter(no_user_voted.index,no_user_voted,color='lightblue')\n",
        "plt.axhline(y=10,color='r')\n",
        "plt.xlabel('MovieId')\n",
        "plt.ylabel('Number of users voted')\n",
        "plt.title('Number of ratings that a particular movie has')\n",
        "\n",
        "plt.show()"
      ],
      "execution_count": null,
      "outputs": [
        {
          "output_type": "display_data",
          "data": {
            "image/png": "[encoded data removed]",
            "text/plain": [
              "<Figure size 1152x288 with 1 Axes>"
            ]
          },
          "metadata": {
            "tags": [],
            "needs_background": "light"
          }
        }
      ]
    },
    {
      "cell_type": "code",
      "metadata": {
        "colab": {
          "base_uri": "https://localhost:8080/",
          "height": 295
        },
        "id": "d59jh_C4Sb12",
        "outputId": "4a0a6848-d359-4afc-c1ec-e97b225e92ab"
      },
      "source": [
        "x =len(rating.T)-rating.T.isin([0]).sum()\n",
        "plt.hist(x,alpha=0.7, rwidth=0.85)\n",
        "plt.title(\"Distribution of how many movie a particular user rate\")\n",
        "plt.xlabel('rating')\n",
        "plt.ylabel('Frequency')\n",
        "plt.show()"
      ],
      "execution_count": null,
      "outputs": [
        {
          "output_type": "display_data",
          "data": {
            "image/png": "[encoded data removed]",
            "text/plain": [
              "<Figure size 432x288 with 1 Axes>"
            ]
          },
          "metadata": {
            "tags": [],
            "needs_background": "light"
          }
        }
      ]
    },
    {
      "cell_type": "code",
      "metadata": {
        "colab": {
          "base_uri": "https://localhost:8080/",
          "height": 295
        },
        "id": "xjLnPo_eQ8EU",
        "outputId": "74cd3913-c4d1-4fe2-8922-e24e25b9e930"
      },
      "source": [
        "all_rating = merge_rating['rating']\n",
        "stats_rating = [0,0,0,0,0]\n",
        "for rate in all_rating:\n",
        "  if (rate<=1):\n",
        "    stats_rating[0]+=1\n",
        "  if (rate<=2 and rate>1):\n",
        "     stats_rating[1]+=1\n",
        "  if (rate<=3 and rate>2):\n",
        "     stats_rating[2]+=1\n",
        "  if (rate<=4 and rate>3):\n",
        "     stats_rating[3]+=1\n",
        "  if (rate<=5 and rate>4):\n",
        "     stats_rating[4]+=1\n",
        "\n",
        "\n",
        "bars = ('1', '2', '3', '4', '5')\n",
        "y_pos = np.arange(len(bars))\n",
        "\n",
        "# Create bars\n",
        "plt.bar(y_pos, stats_rating,color=[\"red\",\"orange\",\"green\",\"lightblue\",\"purple\"])\n",
        "plt.title(\"Distribution of user rating\")\n",
        "plt.xlabel(\"rating\")\n",
        "plt.ylabel(\"count\")\n",
        "# Create names on the x-axis\n",
        "plt.xticks(y_pos, bars)\n",
        "# Show graphic\n",
        "plt.show()"
      ],
      "execution_count": null,
      "outputs": [
        {
          "output_type": "display_data",
          "data": {
            "image/png": "[encoded data removed]",
            "text/plain": [
              "<Figure size 432x288 with 1 Axes>"
            ]
          },
          "metadata": {
            "tags": [],
            "needs_background": "light"
          }
        }
      ]
    },
    {
      "cell_type": "code",
      "metadata": {
        "id": "_AlkPBsbQH01"
      },
      "source": [
        "userId = merge_rating[\"userId\"].ravel()\n",
        "movieId = merge_rating[\"movieId\"].ravel()"
      ],
      "execution_count": null,
      "outputs": []
    },
    {
      "cell_type": "markdown",
      "metadata": {
        "id": "KAivOWqV3qYT"
      },
      "source": [
        "Save/ read the new extracted features from the google drive"
      ]
    },
    {
      "cell_type": "code",
      "metadata": {
        "id": "VpS_si6aQtST",
        "colab": {
          "base_uri": "https://localhost:8080/",
          "height": 419
        },
        "outputId": "c3ed1ecb-617a-44e5-b0b0-8796505eab9c"
      },
      "source": [
        "#Save the file into drive \n",
        "# merge_rating.to_csv('new_rating.csv')\n",
        "# !cp new_rating.csv \"drive/My Drive/cs686/ml-latest-small\"\n",
        "merge_rating= data_dir + \"new_rating.csv\"\n",
        "merge_rating = pd.read_csv(merge_rating)\n",
        "merge_rating"
      ],
      "execution_count": null,
      "outputs": [
        {
          "output_type": "execute_result",
          "data": {
            "text/html": [
              "<div>\n",
              "<style scoped>\n",
              "    .dataframe tbody tr th:only-of-type {\n",
              "        vertical-align: middle;\n",
              "    }\n",
              "\n",
              "    .dataframe tbody tr th {\n",
              "        vertical-align: top;\n",
              "    }\n",
              "\n",
              "    .dataframe thead th {\n",
              "        text-align: right;\n",
              "    }\n",
              "</style>\n",
              "<table border=\"1\" class=\"dataframe\">\n",
              "  <thead>\n",
              "    <tr style=\"text-align: right;\">\n",
              "      <th></th>\n",
              "      <th>Unnamed: 0</th>\n",
              "      <th>movieId</th>\n",
              "      <th>title</th>\n",
              "      <th>userId</th>\n",
              "      <th>rating</th>\n",
              "      <th>matrix_fact_predit</th>\n",
              "      <th>similarMovie1</th>\n",
              "      <th>similarMovie2</th>\n",
              "      <th>similarMovie3</th>\n",
              "      <th>similarUser1</th>\n",
              "      <th>similarUser2</th>\n",
              "      <th>similarUser3</th>\n",
              "      <th>user_rating_avg</th>\n",
              "      <th>movie_rating_avg</th>\n",
              "    </tr>\n",
              "  </thead>\n",
              "  <tbody>\n",
              "    <tr>\n",
              "      <th>0</th>\n",
              "      <td>0</td>\n",
              "      <td>1</td>\n",
              "      <td>Toy Story (1995)</td>\n",
              "      <td>1</td>\n",
              "      <td>4.0</td>\n",
              "      <td>4.765211</td>\n",
              "      <td>4.0</td>\n",
              "      <td>4.0</td>\n",
              "      <td>5.0</td>\n",
              "      <td>5.0</td>\n",
              "      <td>3.0</td>\n",
              "      <td>4.0</td>\n",
              "      <td>4.366379</td>\n",
              "      <td>3.92093</td>\n",
              "    </tr>\n",
              "    <tr>\n",
              "      <th>1</th>\n",
              "      <td>1</td>\n",
              "      <td>1</td>\n",
              "      <td>Toy Story (1995)</td>\n",
              "      <td>5</td>\n",
              "      <td>4.0</td>\n",
              "      <td>3.889968</td>\n",
              "      <td>5.0</td>\n",
              "      <td>3.0</td>\n",
              "      <td>3.0</td>\n",
              "      <td>4.0</td>\n",
              "      <td>5.0</td>\n",
              "      <td>4.0</td>\n",
              "      <td>3.636364</td>\n",
              "      <td>3.92093</td>\n",
              "    </tr>\n",
              "    <tr>\n",
              "      <th>2</th>\n",
              "      <td>2</td>\n",
              "      <td>1</td>\n",
              "      <td>Toy Story (1995)</td>\n",
              "      <td>7</td>\n",
              "      <td>4.5</td>\n",
              "      <td>4.720856</td>\n",
              "      <td>4.5</td>\n",
              "      <td>4.5</td>\n",
              "      <td>4.0</td>\n",
              "      <td>3.5</td>\n",
              "      <td>5.0</td>\n",
              "      <td>4.0</td>\n",
              "      <td>3.230263</td>\n",
              "      <td>3.92093</td>\n",
              "    </tr>\n",
              "    <tr>\n",
              "      <th>3</th>\n",
              "      <td>3</td>\n",
              "      <td>1</td>\n",
              "      <td>Toy Story (1995)</td>\n",
              "      <td>15</td>\n",
              "      <td>2.5</td>\n",
              "      <td>4.621590</td>\n",
              "      <td>2.0</td>\n",
              "      <td>3.5</td>\n",
              "      <td>1.0</td>\n",
              "      <td>3.0</td>\n",
              "      <td>3.0</td>\n",
              "      <td>4.0</td>\n",
              "      <td>3.448148</td>\n",
              "      <td>3.92093</td>\n",
              "    </tr>\n",
              "    <tr>\n",
              "      <th>4</th>\n",
              "      <td>4</td>\n",
              "      <td>1</td>\n",
              "      <td>Toy Story (1995)</td>\n",
              "      <td>17</td>\n",
              "      <td>4.5</td>\n",
              "      <td>4.956737</td>\n",
              "      <td>4.0</td>\n",
              "      <td>3.5</td>\n",
              "      <td>5.0</td>\n",
              "      <td>2.5</td>\n",
              "      <td>4.0</td>\n",
              "      <td>3.0</td>\n",
              "      <td>4.209524</td>\n",
              "      <td>3.92093</td>\n",
              "    </tr>\n",
              "    <tr>\n",
              "      <th>...</th>\n",
              "      <td>...</td>\n",
              "      <td>...</td>\n",
              "      <td>...</td>\n",
              "      <td>...</td>\n",
              "      <td>...</td>\n",
              "      <td>...</td>\n",
              "      <td>...</td>\n",
              "      <td>...</td>\n",
              "      <td>...</td>\n",
              "      <td>...</td>\n",
              "      <td>...</td>\n",
              "      <td>...</td>\n",
              "      <td>...</td>\n",
              "      <td>...</td>\n",
              "    </tr>\n",
              "    <tr>\n",
              "      <th>100831</th>\n",
              "      <td>100831</td>\n",
              "      <td>193581</td>\n",
              "      <td>Black Butler: Book of the Atlantic (2017)</td>\n",
              "      <td>184</td>\n",
              "      <td>4.0</td>\n",
              "      <td>3.719750</td>\n",
              "      <td>4.0</td>\n",
              "      <td>4.0</td>\n",
              "      <td>4.0</td>\n",
              "      <td>4.0</td>\n",
              "      <td>4.0</td>\n",
              "      <td>4.0</td>\n",
              "      <td>3.705224</td>\n",
              "      <td>4.00000</td>\n",
              "    </tr>\n",
              "    <tr>\n",
              "      <th>100832</th>\n",
              "      <td>100832</td>\n",
              "      <td>193583</td>\n",
              "      <td>No Game No Life: Zero (2017)</td>\n",
              "      <td>184</td>\n",
              "      <td>3.5</td>\n",
              "      <td>3.757619</td>\n",
              "      <td>3.5</td>\n",
              "      <td>3.5</td>\n",
              "      <td>3.5</td>\n",
              "      <td>3.5</td>\n",
              "      <td>3.5</td>\n",
              "      <td>3.5</td>\n",
              "      <td>3.705224</td>\n",
              "      <td>3.50000</td>\n",
              "    </tr>\n",
              "    <tr>\n",
              "      <th>100833</th>\n",
              "      <td>100833</td>\n",
              "      <td>193585</td>\n",
              "      <td>Flint (2017)</td>\n",
              "      <td>184</td>\n",
              "      <td>3.5</td>\n",
              "      <td>3.590668</td>\n",
              "      <td>3.5</td>\n",
              "      <td>3.5</td>\n",
              "      <td>3.5</td>\n",
              "      <td>3.5</td>\n",
              "      <td>3.5</td>\n",
              "      <td>3.5</td>\n",
              "      <td>3.705224</td>\n",
              "      <td>3.50000</td>\n",
              "    </tr>\n",
              "    <tr>\n",
              "      <th>100834</th>\n",
              "      <td>100834</td>\n",
              "      <td>193587</td>\n",
              "      <td>Bungo Stray Dogs: Dead Apple (2018)</td>\n",
              "      <td>184</td>\n",
              "      <td>3.5</td>\n",
              "      <td>3.555727</td>\n",
              "      <td>3.5</td>\n",
              "      <td>3.5</td>\n",
              "      <td>3.5</td>\n",
              "      <td>3.5</td>\n",
              "      <td>3.5</td>\n",
              "      <td>3.5</td>\n",
              "      <td>3.705224</td>\n",
              "      <td>3.50000</td>\n",
              "    </tr>\n",
              "    <tr>\n",
              "      <th>100835</th>\n",
              "      <td>100835</td>\n",
              "      <td>193609</td>\n",
              "      <td>Andrew Dice Clay: Dice Rules (1991)</td>\n",
              "      <td>331</td>\n",
              "      <td>4.0</td>\n",
              "      <td>3.555108</td>\n",
              "      <td>4.0</td>\n",
              "      <td>4.0</td>\n",
              "      <td>4.0</td>\n",
              "      <td>4.0</td>\n",
              "      <td>4.0</td>\n",
              "      <td>4.0</td>\n",
              "      <td>3.627976</td>\n",
              "      <td>4.00000</td>\n",
              "    </tr>\n",
              "  </tbody>\n",
              "</table>\n",
              "<p>100836 rows × 14 columns</p>\n",
              "</div>"
            ],
            "text/plain": [
              "        Unnamed: 0  movieId  ... user_rating_avg  movie_rating_avg\n",
              "0                0        1  ...        4.366379           3.92093\n",
              "1                1        1  ...        3.636364           3.92093\n",
              "2                2        1  ...        3.230263           3.92093\n",
              "3                3        1  ...        3.448148           3.92093\n",
              "4                4        1  ...        4.209524           3.92093\n",
              "...            ...      ...  ...             ...               ...\n",
              "100831      100831   193581  ...        3.705224           4.00000\n",
              "100832      100832   193583  ...        3.705224           3.50000\n",
              "100833      100833   193585  ...        3.705224           3.50000\n",
              "100834      100834   193587  ...        3.705224           3.50000\n",
              "100835      100835   193609  ...        3.627976           4.00000\n",
              "\n",
              "[100836 rows x 14 columns]"
            ]
          },
          "metadata": {
            "tags": []
          },
          "execution_count": 9
        }
      ]
    },
    {
      "cell_type": "markdown",
      "metadata": {
        "id": "XZxFXce1zgS-"
      },
      "source": [
        "Split the training dataset and testing dataset\n",
        "\n"
      ]
    },
    {
      "cell_type": "code",
      "metadata": {
        "id": "JZtayCms3J4D"
      },
      "source": [
        "from surprise.model_selection import train_test_split\n",
        "\n",
        "reader = Reader(rating_scale=(1,5))\n",
        "\n",
        "# # # create the traindata from the data frame\n",
        "# train_data_mf = Dataset.load_from_df(merge_rating[['userId', 'movieId', 'rating']], reader)\n",
        "# trainset = train_data_mf.build_full_trainset()\n"
      ],
      "execution_count": null,
      "outputs": []
    },
    {
      "cell_type": "code",
      "metadata": {
        "colab": {
          "base_uri": "https://localhost:8080/"
        },
        "id": "f06QevOfdmDQ",
        "outputId": "d0fc0d8a-fef1-40e7-e54a-c685c5d0efd1"
      },
      "source": [
        "from sklearn.model_selection import train_test_split\n",
        "\n",
        "\n",
        "# movie_training = merge_rating[['similarUser1','similarUser2','similarUser3','similarMovie1','similarMovie2','similarMovie3']]\n",
        "#movie_training = merge_rating[['similarMovie1','similarMovie2','similarMovie3']]\n",
        "#movie_training = merge_rating[['user_rating_avg','movie_rating_avg']]\n",
        "\n",
        "#movie_training = merge_rating[['similarMovie1','similarMovie2','similarMovie3','user_rating_avg','movie_rating_avg']]\n",
        "\n",
        "#movie_training = merge_rating[['similarMovie1','similarMovie2','similarMovie3','similarUser1','similarUser2','similarUser3','user_rating_avg','movie_rating_avg']]\n",
        "\n",
        "movie_rating = merge_rating[\"rating\"]\n",
        "trainingX,testingX,trainingY,testingY = train_test_split(merge_rating,movie_rating, test_size=.10)\n",
        "trainingId = trainingX.index\n",
        "testingId=testingX.index\n",
        "trainingX=trainingX[['similarMovie1','similarMovie2','similarMovie3','similarUser1','similarUser2','similarUser3','user_rating_avg','movie_rating_avg']]\n",
        "testingX =testingX[['similarMovie1','similarMovie2','similarMovie3','similarUser1','similarUser2','similarUser3','user_rating_avg','movie_rating_avg']]\n",
        "\n",
        "print(trainingX.shape,trainingY.shape)\n",
        "print(testingX.shape,trainingY.shape)"
      ],
      "execution_count": null,
      "outputs": [
        {
          "output_type": "stream",
          "text": [
            "(90752, 8) (90752,)\n",
            "(10084, 8) (90752,)\n"
          ],
          "name": "stdout"
        }
      ]
    },
    {
      "cell_type": "code",
      "metadata": {
        "id": "0_WVVQ05d7KX"
      },
      "source": [
        "trainingset=merge_rating[merge_rating.index.isin(trainingId)]\n",
        "testingset = merge_rating[merge_rating.index.isin(testingId)]"
      ],
      "execution_count": null,
      "outputs": []
    },
    {
      "cell_type": "code",
      "metadata": {
        "colab": {
          "base_uri": "https://localhost:8080/"
        },
        "id": "B6j1a_-vL-Dq",
        "outputId": "e8f5997b-551d-4710-f7e6-9ffc6cf47172"
      },
      "source": [
        "#trainingset, testingset = train_test_split(merge_rating, test_size=.10)\n",
        "#trainingset_movieid= trainingset['movieId']\n",
        "#testingset_movieid= testingset['movieId']\n",
        "alldata = Dataset.load_from_df(trainingset[['userId', 'movieId', 'rating']], reader)\n",
        "data = alldata.build_full_trainset()\n",
        "data"
      ],
      "execution_count": null,
      "outputs": [
        {
          "output_type": "execute_result",
          "data": {
            "text/plain": [
              "<surprise.trainset.Trainset at 0x7f5141222dd0>"
            ]
          },
          "metadata": {
            "tags": []
          },
          "execution_count": 13
        }
      ]
    },
    {
      "cell_type": "code",
      "metadata": {
        "id": "X8Axm5TZyVw5"
      },
      "source": [
        "# create the traindata from the data frame\n",
        "train_data_mf = Dataset.load_from_df(trainingset[['userId', 'movieId', 'rating']], reader)\n",
        "# create the traindata from the data frame\n",
        "test_data_mf = Dataset.load_from_df(testingset[['userId', 'movieId', 'rating']], reader)\n",
        "trainset = train_data_mf.build_full_trainset()\n"
      ],
      "execution_count": null,
      "outputs": []
    },
    {
      "cell_type": "markdown",
      "metadata": {
        "id": "9JPc4NhL6o0A"
      },
      "source": [
        "Baseline model experiment"
      ]
    },
    {
      "cell_type": "code",
      "metadata": {
        "id": "GJyFhCl7Z37O"
      },
      "source": [
        "from surprise.model_selection import cross_validate\n",
        "\n",
        "algo = SVD(n_factors=100, biased=True, random_state=15, verbose=True)\n",
        "# algo.fit(trainset)\n",
        "cross_validate(algo, train_data_mf, measures=['RMSE', 'MAE'], cv=5, verbose=True)\n",
        "#cross_validate(algo, alldata, measures=['RMSE', 'MAE'], cv=5, verbose=True)"
      ],
      "execution_count": null,
      "outputs": []
    },
    {
      "cell_type": "code",
      "metadata": {
        "colab": {
          "base_uri": "https://localhost:8080/"
        },
        "id": "ogJrx8Yh5jFE",
        "outputId": "659b0b13-87b4-43e6-daae-4e90655458f4"
      },
      "source": [
        "\n",
        "#getting predictions of train set\n",
        "train_preds = algo.test(trainset.build_testset())\n",
        "train_pred_mf = np.array([pred.est for pred in train_preds])\n",
        "accuracy.rmse(train_preds)\n",
        "accuracy.mae(train_preds)\n"
      ],
      "execution_count": null,
      "outputs": [
        {
          "output_type": "stream",
          "text": [
            "RMSE: 0.6935\n",
            "MAE:  0.5321\n"
          ],
          "name": "stdout"
        },
        {
          "output_type": "execute_result",
          "data": {
            "text/plain": [
              "0.5321328159898336"
            ]
          },
          "metadata": {
            "tags": []
          },
          "execution_count": 153
        }
      ]
    },
    {
      "cell_type": "code",
      "metadata": {
        "colab": {
          "base_uri": "https://localhost:8080/"
        },
        "id": "USyyayOZbBFT",
        "outputId": "54e38ef3-1473-42fa-8b1f-0d3f6e4b0e3c"
      },
      "source": [
        "# prediction of rating on testing set \n",
        "test_preds=algo.test(test_data_mf.build_full_trainset().build_testset())\n",
        "test_preds_mf = np.array([pred.est for pred in test_preds])\n",
        "print(len(test_preds_mf))\n",
        "accuracy.rmse(test_preds)\n",
        "accuracy.mae(test_preds)\n",
        "\n"
      ],
      "execution_count": null,
      "outputs": [
        {
          "output_type": "stream",
          "text": [
            "10084\n",
            "RMSE: 0.8710\n",
            "MAE:  0.6674\n"
          ],
          "name": "stdout"
        },
        {
          "output_type": "execute_result",
          "data": {
            "text/plain": [
              "0.6674159699882465"
            ]
          },
          "metadata": {
            "tags": []
          },
          "execution_count": 154
        }
      ]
    },
    {
      "cell_type": "markdown",
      "metadata": {
        "id": "6gVmRgZitW-h"
      },
      "source": [
        "Collaborative filtering with feature extraction\n",
        "\n",
        "\n",
        "\n",
        "\n",
        "\n"
      ]
    },
    {
      "cell_type": "code",
      "metadata": {
        "id": "N7cby2VD7jq_"
      },
      "source": [
        "def getUserAvg(matrix):\n",
        "  sum_of_ratings = matrix.sum(axis=1).ravel()\n",
        "  is_rated = matrix!=0\n",
        "  no_of_ratings = is_rated.sum(axis=1).ravel()\n",
        "  average_ratings = { i : sum_of_ratings[i]/no_of_ratings[i]\n",
        "                                 for i in range(matrix.shape[0]) \n",
        "                                    if no_of_ratings[i] !=0}\n",
        "  return average_ratings\n",
        "\n",
        "def getMovieAvg(matrix):\n",
        "  sum_of_ratings = matrix.sum(axis=0).ravel()\n",
        "  is_rated = matrix!=0\n",
        "  no_of_ratings = is_rated.sum(axis=0).ravel()\n",
        "  average_ratings = { matrix.columns.values[i] : sum_of_ratings[i]/no_of_ratings[i]\n",
        "                                 for i in range(len(matrix.columns.values))\n",
        "                                    if no_of_ratings[i] !=0} \n",
        "  return average_ratings\n",
        "  \n",
        "temp = dict()\n",
        "temp[\"user_rating_avg\"] = getUserAvg(rating)\n",
        "temp[\"movie_rating_avg\"] = getMovieAvg(rating)\n",
        "\n",
        "user_avg = []\n",
        "movie_avg = []\n",
        "for id in userId:\n",
        "  user_avg.append(temp[\"user_rating_avg\"][id-1])\n",
        "for id in movieId:\n",
        "  movie_avg.append(temp[\"movie_rating_avg\"][id])\n",
        "merge_rating[\"user_rating_avg\"] = user_avg\n",
        "merge_rating[\"movie_rating_avg\"]=movie_avg\n",
        "merge_rating\n"
      ],
      "execution_count": null,
      "outputs": []
    },
    {
      "cell_type": "code",
      "metadata": {
        "id": "xZsxsoU56_Nc"
      },
      "source": [
        "import collections\n",
        "merge_rating=pd.merge(movies,rating).drop(['genres','timestamp'],axis=1)\n",
        "\n",
        "# Sparse matrix \n",
        "rating =merge_rating.pivot_table(index=[\"userId\"],columns=['movieId'],values=\"rating\").fillna(0)\n",
        "merge_rating\n",
        "\n",
        "dictionary =collections.defaultdict(int)\n",
        "for movie in merge_rating[\"title\"]:\n",
        "  dictionary[movie]+=1\n",
        "small=10\n",
        "moviename=\"\"\n",
        "for key,val in dictionary.items():\n",
        "  if val<small:\n",
        "    small=val\n",
        "    moviename=key\n",
        "\n",
        "print(\"movie\",small,moviename)"
      ],
      "execution_count": null,
      "outputs": []
    },
    {
      "cell_type": "code",
      "metadata": {
        "colab": {
          "base_uri": "https://localhost:8080/",
          "height": 439
        },
        "id": "YsX1EH6bz5p1",
        "outputId": "33e7ea10-7d73-48b6-d363-9bf1954e8642"
      },
      "source": [
        "from sklearn.metrics.pairwise import pairwise_distances\n",
        "\n",
        "user_similarity = 1 - pairwise_distances(rating, metric=\"cosine\" )\n",
        "user_similarity = pd.DataFrame( user_similarity )\n",
        "user_similarity"
      ],
      "execution_count": null,
      "outputs": [
        {
          "output_type": "execute_result",
          "data": {
            "text/html": [
              "<div>\n",
              "<style scoped>\n",
              "    .dataframe tbody tr th:only-of-type {\n",
              "        vertical-align: middle;\n",
              "    }\n",
              "\n",
              "    .dataframe tbody tr th {\n",
              "        vertical-align: top;\n",
              "    }\n",
              "\n",
              "    .dataframe thead th {\n",
              "        text-align: right;\n",
              "    }\n",
              "</style>\n",
              "<table border=\"1\" class=\"dataframe\">\n",
              "  <thead>\n",
              "    <tr style=\"text-align: right;\">\n",
              "      <th></th>\n",
              "      <th>0</th>\n",
              "      <th>1</th>\n",
              "      <th>2</th>\n",
              "      <th>3</th>\n",
              "      <th>4</th>\n",
              "      <th>5</th>\n",
              "      <th>6</th>\n",
              "      <th>7</th>\n",
              "      <th>8</th>\n",
              "      <th>9</th>\n",
              "      <th>10</th>\n",
              "      <th>11</th>\n",
              "      <th>12</th>\n",
              "      <th>13</th>\n",
              "      <th>14</th>\n",
              "      <th>15</th>\n",
              "      <th>16</th>\n",
              "      <th>17</th>\n",
              "      <th>18</th>\n",
              "      <th>19</th>\n",
              "      <th>20</th>\n",
              "      <th>21</th>\n",
              "      <th>22</th>\n",
              "      <th>23</th>\n",
              "      <th>24</th>\n",
              "      <th>25</th>\n",
              "      <th>26</th>\n",
              "      <th>27</th>\n",
              "      <th>28</th>\n",
              "      <th>29</th>\n",
              "      <th>30</th>\n",
              "      <th>31</th>\n",
              "      <th>32</th>\n",
              "      <th>33</th>\n",
              "      <th>34</th>\n",
              "      <th>35</th>\n",
              "      <th>36</th>\n",
              "      <th>37</th>\n",
              "      <th>38</th>\n",
              "      <th>39</th>\n",
              "      <th>...</th>\n",
              "      <th>570</th>\n",
              "      <th>571</th>\n",
              "      <th>572</th>\n",
              "      <th>573</th>\n",
              "      <th>574</th>\n",
              "      <th>575</th>\n",
              "      <th>576</th>\n",
              "      <th>577</th>\n",
              "      <th>578</th>\n",
              "      <th>579</th>\n",
              "      <th>580</th>\n",
              "      <th>581</th>\n",
              "      <th>582</th>\n",
              "      <th>583</th>\n",
              "      <th>584</th>\n",
              "      <th>585</th>\n",
              "      <th>586</th>\n",
              "      <th>587</th>\n",
              "      <th>588</th>\n",
              "      <th>589</th>\n",
              "      <th>590</th>\n",
              "      <th>591</th>\n",
              "      <th>592</th>\n",
              "      <th>593</th>\n",
              "      <th>594</th>\n",
              "      <th>595</th>\n",
              "      <th>596</th>\n",
              "      <th>597</th>\n",
              "      <th>598</th>\n",
              "      <th>599</th>\n",
              "      <th>600</th>\n",
              "      <th>601</th>\n",
              "      <th>602</th>\n",
              "      <th>603</th>\n",
              "      <th>604</th>\n",
              "      <th>605</th>\n",
              "      <th>606</th>\n",
              "      <th>607</th>\n",
              "      <th>608</th>\n",
              "      <th>609</th>\n",
              "    </tr>\n",
              "  </thead>\n",
              "  <tbody>\n",
              "    <tr>\n",
              "      <th>0</th>\n",
              "      <td>1.000000</td>\n",
              "      <td>0.027283</td>\n",
              "      <td>0.059720</td>\n",
              "      <td>0.194395</td>\n",
              "      <td>0.129080</td>\n",
              "      <td>0.128152</td>\n",
              "      <td>0.158744</td>\n",
              "      <td>0.136968</td>\n",
              "      <td>0.064263</td>\n",
              "      <td>0.016875</td>\n",
              "      <td>0.132499</td>\n",
              "      <td>0.016458</td>\n",
              "      <td>0.092971</td>\n",
              "      <td>0.113238</td>\n",
              "      <td>0.160689</td>\n",
              "      <td>0.169858</td>\n",
              "      <td>0.264358</td>\n",
              "      <td>0.214868</td>\n",
              "      <td>0.325376</td>\n",
              "      <td>0.160969</td>\n",
              "      <td>0.153162</td>\n",
              "      <td>0.050691</td>\n",
              "      <td>0.106669</td>\n",
              "      <td>0.155193</td>\n",
              "      <td>0.099261</td>\n",
              "      <td>0.105791</td>\n",
              "      <td>0.238933</td>\n",
              "      <td>0.202866</td>\n",
              "      <td>0.145251</td>\n",
              "      <td>0.099781</td>\n",
              "      <td>0.164454</td>\n",
              "      <td>0.146211</td>\n",
              "      <td>0.151945</td>\n",
              "      <td>0.083544</td>\n",
              "      <td>0.074508</td>\n",
              "      <td>0.071673</td>\n",
              "      <td>0.144736</td>\n",
              "      <td>0.138588</td>\n",
              "      <td>0.329782</td>\n",
              "      <td>0.094755</td>\n",
              "      <td>...</td>\n",
              "      <td>0.090224</td>\n",
              "      <td>0.131072</td>\n",
              "      <td>0.253480</td>\n",
              "      <td>0.093450</td>\n",
              "      <td>0.062668</td>\n",
              "      <td>0.051803</td>\n",
              "      <td>0.317319</td>\n",
              "      <td>0.000000</td>\n",
              "      <td>0.141129</td>\n",
              "      <td>0.249326</td>\n",
              "      <td>0.057399</td>\n",
              "      <td>0.048914</td>\n",
              "      <td>0.052175</td>\n",
              "      <td>0.100406</td>\n",
              "      <td>0.114076</td>\n",
              "      <td>0.123280</td>\n",
              "      <td>0.122782</td>\n",
              "      <td>0.183922</td>\n",
              "      <td>0.118112</td>\n",
              "      <td>0.324766</td>\n",
              "      <td>0.136809</td>\n",
              "      <td>0.143934</td>\n",
              "      <td>0.174413</td>\n",
              "      <td>0.141960</td>\n",
              "      <td>0.110558</td>\n",
              "      <td>0.123713</td>\n",
              "      <td>0.312843</td>\n",
              "      <td>0.011280</td>\n",
              "      <td>0.282412</td>\n",
              "      <td>0.291272</td>\n",
              "      <td>0.080554</td>\n",
              "      <td>0.164455</td>\n",
              "      <td>0.221486</td>\n",
              "      <td>0.070669</td>\n",
              "      <td>0.153625</td>\n",
              "      <td>0.164191</td>\n",
              "      <td>0.269389</td>\n",
              "      <td>0.291097</td>\n",
              "      <td>0.093572</td>\n",
              "      <td>0.145321</td>\n",
              "    </tr>\n",
              "    <tr>\n",
              "      <th>1</th>\n",
              "      <td>0.027283</td>\n",
              "      <td>1.000000</td>\n",
              "      <td>0.000000</td>\n",
              "      <td>0.003726</td>\n",
              "      <td>0.016614</td>\n",
              "      <td>0.025333</td>\n",
              "      <td>0.027585</td>\n",
              "      <td>0.027257</td>\n",
              "      <td>0.000000</td>\n",
              "      <td>0.067445</td>\n",
              "      <td>0.044419</td>\n",
              "      <td>0.000000</td>\n",
              "      <td>0.043918</td>\n",
              "      <td>0.016901</td>\n",
              "      <td>0.119778</td>\n",
              "      <td>0.093728</td>\n",
              "      <td>0.103755</td>\n",
              "      <td>0.166253</td>\n",
              "      <td>0.012571</td>\n",
              "      <td>0.014137</td>\n",
              "      <td>0.090880</td>\n",
              "      <td>0.144635</td>\n",
              "      <td>0.013597</td>\n",
              "      <td>0.129902</td>\n",
              "      <td>0.226008</td>\n",
              "      <td>0.000000</td>\n",
              "      <td>0.000000</td>\n",
              "      <td>0.058145</td>\n",
              "      <td>0.104059</td>\n",
              "      <td>0.149324</td>\n",
              "      <td>0.000000</td>\n",
              "      <td>0.017807</td>\n",
              "      <td>0.032428</td>\n",
              "      <td>0.043299</td>\n",
              "      <td>0.000000</td>\n",
              "      <td>0.054012</td>\n",
              "      <td>0.028500</td>\n",
              "      <td>0.023147</td>\n",
              "      <td>0.000000</td>\n",
              "      <td>0.017446</td>\n",
              "      <td>...</td>\n",
              "      <td>0.000000</td>\n",
              "      <td>0.032675</td>\n",
              "      <td>0.167959</td>\n",
              "      <td>0.035531</td>\n",
              "      <td>0.000000</td>\n",
              "      <td>0.000000</td>\n",
              "      <td>0.014870</td>\n",
              "      <td>0.000000</td>\n",
              "      <td>0.000000</td>\n",
              "      <td>0.061953</td>\n",
              "      <td>0.136703</td>\n",
              "      <td>0.219315</td>\n",
              "      <td>0.043620</td>\n",
              "      <td>0.000000</td>\n",
              "      <td>0.127551</td>\n",
              "      <td>0.089562</td>\n",
              "      <td>0.000000</td>\n",
              "      <td>0.055900</td>\n",
              "      <td>0.026429</td>\n",
              "      <td>0.056348</td>\n",
              "      <td>0.036147</td>\n",
              "      <td>0.030684</td>\n",
              "      <td>0.062033</td>\n",
              "      <td>0.013125</td>\n",
              "      <td>0.000000</td>\n",
              "      <td>0.104568</td>\n",
              "      <td>0.011986</td>\n",
              "      <td>0.048508</td>\n",
              "      <td>0.098000</td>\n",
              "      <td>0.023248</td>\n",
              "      <td>0.202671</td>\n",
              "      <td>0.016866</td>\n",
              "      <td>0.011997</td>\n",
              "      <td>0.000000</td>\n",
              "      <td>0.000000</td>\n",
              "      <td>0.028429</td>\n",
              "      <td>0.012948</td>\n",
              "      <td>0.046211</td>\n",
              "      <td>0.027565</td>\n",
              "      <td>0.102427</td>\n",
              "    </tr>\n",
              "    <tr>\n",
              "      <th>2</th>\n",
              "      <td>0.059720</td>\n",
              "      <td>0.000000</td>\n",
              "      <td>1.000000</td>\n",
              "      <td>0.002251</td>\n",
              "      <td>0.005020</td>\n",
              "      <td>0.003936</td>\n",
              "      <td>0.000000</td>\n",
              "      <td>0.004941</td>\n",
              "      <td>0.000000</td>\n",
              "      <td>0.000000</td>\n",
              "      <td>0.000000</td>\n",
              "      <td>0.000000</td>\n",
              "      <td>0.000000</td>\n",
              "      <td>0.003064</td>\n",
              "      <td>0.017251</td>\n",
              "      <td>0.032299</td>\n",
              "      <td>0.009813</td>\n",
              "      <td>0.028241</td>\n",
              "      <td>0.019142</td>\n",
              "      <td>0.008756</td>\n",
              "      <td>0.004017</td>\n",
              "      <td>0.003070</td>\n",
              "      <td>0.003081</td>\n",
              "      <td>0.002592</td>\n",
              "      <td>0.005100</td>\n",
              "      <td>0.000000</td>\n",
              "      <td>0.002332</td>\n",
              "      <td>0.029771</td>\n",
              "      <td>0.005974</td>\n",
              "      <td>0.000000</td>\n",
              "      <td>0.003507</td>\n",
              "      <td>0.015494</td>\n",
              "      <td>0.007156</td>\n",
              "      <td>0.000736</td>\n",
              "      <td>0.000000</td>\n",
              "      <td>0.000000</td>\n",
              "      <td>0.000000</td>\n",
              "      <td>0.004196</td>\n",
              "      <td>0.003639</td>\n",
              "      <td>0.002530</td>\n",
              "      <td>...</td>\n",
              "      <td>0.020899</td>\n",
              "      <td>0.008056</td>\n",
              "      <td>0.000000</td>\n",
              "      <td>0.000000</td>\n",
              "      <td>0.000000</td>\n",
              "      <td>0.029830</td>\n",
              "      <td>0.039894</td>\n",
              "      <td>0.000000</td>\n",
              "      <td>0.005749</td>\n",
              "      <td>0.033121</td>\n",
              "      <td>0.008561</td>\n",
              "      <td>0.000000</td>\n",
              "      <td>0.000000</td>\n",
              "      <td>0.000000</td>\n",
              "      <td>0.000000</td>\n",
              "      <td>0.000986</td>\n",
              "      <td>0.015793</td>\n",
              "      <td>0.003923</td>\n",
              "      <td>0.004791</td>\n",
              "      <td>0.027418</td>\n",
              "      <td>0.000000</td>\n",
              "      <td>0.000000</td>\n",
              "      <td>0.006460</td>\n",
              "      <td>0.001983</td>\n",
              "      <td>0.000000</td>\n",
              "      <td>0.025873</td>\n",
              "      <td>0.028970</td>\n",
              "      <td>0.000000</td>\n",
              "      <td>0.039539</td>\n",
              "      <td>0.013143</td>\n",
              "      <td>0.005048</td>\n",
              "      <td>0.004892</td>\n",
              "      <td>0.024992</td>\n",
              "      <td>0.000000</td>\n",
              "      <td>0.010694</td>\n",
              "      <td>0.012993</td>\n",
              "      <td>0.019247</td>\n",
              "      <td>0.021128</td>\n",
              "      <td>0.000000</td>\n",
              "      <td>0.032119</td>\n",
              "    </tr>\n",
              "    <tr>\n",
              "      <th>3</th>\n",
              "      <td>0.194395</td>\n",
              "      <td>0.003726</td>\n",
              "      <td>0.002251</td>\n",
              "      <td>1.000000</td>\n",
              "      <td>0.128659</td>\n",
              "      <td>0.088491</td>\n",
              "      <td>0.115120</td>\n",
              "      <td>0.062969</td>\n",
              "      <td>0.011361</td>\n",
              "      <td>0.031163</td>\n",
              "      <td>0.054767</td>\n",
              "      <td>0.049945</td>\n",
              "      <td>0.076949</td>\n",
              "      <td>0.048989</td>\n",
              "      <td>0.071551</td>\n",
              "      <td>0.164761</td>\n",
              "      <td>0.145058</td>\n",
              "      <td>0.123217</td>\n",
              "      <td>0.206053</td>\n",
              "      <td>0.113755</td>\n",
              "      <td>0.053014</td>\n",
              "      <td>0.043403</td>\n",
              "      <td>0.093971</td>\n",
              "      <td>0.071690</td>\n",
              "      <td>0.032862</td>\n",
              "      <td>0.061832</td>\n",
              "      <td>0.128954</td>\n",
              "      <td>0.135593</td>\n",
              "      <td>0.061308</td>\n",
              "      <td>0.058140</td>\n",
              "      <td>0.126182</td>\n",
              "      <td>0.200597</td>\n",
              "      <td>0.167247</td>\n",
              "      <td>0.045571</td>\n",
              "      <td>0.050148</td>\n",
              "      <td>0.113807</td>\n",
              "      <td>0.061031</td>\n",
              "      <td>0.090125</td>\n",
              "      <td>0.240976</td>\n",
              "      <td>0.053436</td>\n",
              "      <td>...</td>\n",
              "      <td>0.018553</td>\n",
              "      <td>0.182857</td>\n",
              "      <td>0.125627</td>\n",
              "      <td>0.064559</td>\n",
              "      <td>0.061035</td>\n",
              "      <td>0.005932</td>\n",
              "      <td>0.169440</td>\n",
              "      <td>0.000000</td>\n",
              "      <td>0.098777</td>\n",
              "      <td>0.148584</td>\n",
              "      <td>0.043871</td>\n",
              "      <td>0.047619</td>\n",
              "      <td>0.048474</td>\n",
              "      <td>0.041246</td>\n",
              "      <td>0.088289</td>\n",
              "      <td>0.064095</td>\n",
              "      <td>0.138766</td>\n",
              "      <td>0.049146</td>\n",
              "      <td>0.064485</td>\n",
              "      <td>0.219298</td>\n",
              "      <td>0.116111</td>\n",
              "      <td>0.068196</td>\n",
              "      <td>0.217116</td>\n",
              "      <td>0.082614</td>\n",
              "      <td>0.091974</td>\n",
              "      <td>0.107908</td>\n",
              "      <td>0.275436</td>\n",
              "      <td>0.016054</td>\n",
              "      <td>0.201610</td>\n",
              "      <td>0.211921</td>\n",
              "      <td>0.085938</td>\n",
              "      <td>0.128273</td>\n",
              "      <td>0.307973</td>\n",
              "      <td>0.052985</td>\n",
              "      <td>0.084584</td>\n",
              "      <td>0.200395</td>\n",
              "      <td>0.131746</td>\n",
              "      <td>0.149858</td>\n",
              "      <td>0.032198</td>\n",
              "      <td>0.107683</td>\n",
              "    </tr>\n",
              "    <tr>\n",
              "      <th>4</th>\n",
              "      <td>0.129080</td>\n",
              "      <td>0.016614</td>\n",
              "      <td>0.005020</td>\n",
              "      <td>0.128659</td>\n",
              "      <td>1.000000</td>\n",
              "      <td>0.300349</td>\n",
              "      <td>0.108342</td>\n",
              "      <td>0.429075</td>\n",
              "      <td>0.000000</td>\n",
              "      <td>0.030611</td>\n",
              "      <td>0.183805</td>\n",
              "      <td>0.058860</td>\n",
              "      <td>0.017157</td>\n",
              "      <td>0.221711</td>\n",
              "      <td>0.110152</td>\n",
              "      <td>0.082171</td>\n",
              "      <td>0.162633</td>\n",
              "      <td>0.121313</td>\n",
              "      <td>0.098758</td>\n",
              "      <td>0.096474</td>\n",
              "      <td>0.058264</td>\n",
              "      <td>0.033074</td>\n",
              "      <td>0.066889</td>\n",
              "      <td>0.096215</td>\n",
              "      <td>0.040705</td>\n",
              "      <td>0.294282</td>\n",
              "      <td>0.100491</td>\n",
              "      <td>0.121894</td>\n",
              "      <td>0.068876</td>\n",
              "      <td>0.065534</td>\n",
              "      <td>0.068585</td>\n",
              "      <td>0.233932</td>\n",
              "      <td>0.282323</td>\n",
              "      <td>0.029953</td>\n",
              "      <td>0.311472</td>\n",
              "      <td>0.022065</td>\n",
              "      <td>0.303078</td>\n",
              "      <td>0.377773</td>\n",
              "      <td>0.152956</td>\n",
              "      <td>0.321077</td>\n",
              "      <td>...</td>\n",
              "      <td>0.020016</td>\n",
              "      <td>0.124806</td>\n",
              "      <td>0.129338</td>\n",
              "      <td>0.341347</td>\n",
              "      <td>0.049306</td>\n",
              "      <td>0.000000</td>\n",
              "      <td>0.122199</td>\n",
              "      <td>0.000000</td>\n",
              "      <td>0.182382</td>\n",
              "      <td>0.117199</td>\n",
              "      <td>0.057538</td>\n",
              "      <td>0.000000</td>\n",
              "      <td>0.124645</td>\n",
              "      <td>0.348215</td>\n",
              "      <td>0.029293</td>\n",
              "      <td>0.072713</td>\n",
              "      <td>0.154315</td>\n",
              "      <td>0.377256</td>\n",
              "      <td>0.230961</td>\n",
              "      <td>0.152971</td>\n",
              "      <td>0.000000</td>\n",
              "      <td>0.359595</td>\n",
              "      <td>0.171864</td>\n",
              "      <td>0.137990</td>\n",
              "      <td>0.073238</td>\n",
              "      <td>0.096181</td>\n",
              "      <td>0.116071</td>\n",
              "      <td>0.000000</td>\n",
              "      <td>0.098599</td>\n",
              "      <td>0.137053</td>\n",
              "      <td>0.068048</td>\n",
              "      <td>0.418747</td>\n",
              "      <td>0.110148</td>\n",
              "      <td>0.258773</td>\n",
              "      <td>0.148758</td>\n",
              "      <td>0.106435</td>\n",
              "      <td>0.152866</td>\n",
              "      <td>0.135535</td>\n",
              "      <td>0.261232</td>\n",
              "      <td>0.060792</td>\n",
              "    </tr>\n",
              "    <tr>\n",
              "      <th>...</th>\n",
              "      <td>...</td>\n",
              "      <td>...</td>\n",
              "      <td>...</td>\n",
              "      <td>...</td>\n",
              "      <td>...</td>\n",
              "      <td>...</td>\n",
              "      <td>...</td>\n",
              "      <td>...</td>\n",
              "      <td>...</td>\n",
              "      <td>...</td>\n",
              "      <td>...</td>\n",
              "      <td>...</td>\n",
              "      <td>...</td>\n",
              "      <td>...</td>\n",
              "      <td>...</td>\n",
              "      <td>...</td>\n",
              "      <td>...</td>\n",
              "      <td>...</td>\n",
              "      <td>...</td>\n",
              "      <td>...</td>\n",
              "      <td>...</td>\n",
              "      <td>...</td>\n",
              "      <td>...</td>\n",
              "      <td>...</td>\n",
              "      <td>...</td>\n",
              "      <td>...</td>\n",
              "      <td>...</td>\n",
              "      <td>...</td>\n",
              "      <td>...</td>\n",
              "      <td>...</td>\n",
              "      <td>...</td>\n",
              "      <td>...</td>\n",
              "      <td>...</td>\n",
              "      <td>...</td>\n",
              "      <td>...</td>\n",
              "      <td>...</td>\n",
              "      <td>...</td>\n",
              "      <td>...</td>\n",
              "      <td>...</td>\n",
              "      <td>...</td>\n",
              "      <td>...</td>\n",
              "      <td>...</td>\n",
              "      <td>...</td>\n",
              "      <td>...</td>\n",
              "      <td>...</td>\n",
              "      <td>...</td>\n",
              "      <td>...</td>\n",
              "      <td>...</td>\n",
              "      <td>...</td>\n",
              "      <td>...</td>\n",
              "      <td>...</td>\n",
              "      <td>...</td>\n",
              "      <td>...</td>\n",
              "      <td>...</td>\n",
              "      <td>...</td>\n",
              "      <td>...</td>\n",
              "      <td>...</td>\n",
              "      <td>...</td>\n",
              "      <td>...</td>\n",
              "      <td>...</td>\n",
              "      <td>...</td>\n",
              "      <td>...</td>\n",
              "      <td>...</td>\n",
              "      <td>...</td>\n",
              "      <td>...</td>\n",
              "      <td>...</td>\n",
              "      <td>...</td>\n",
              "      <td>...</td>\n",
              "      <td>...</td>\n",
              "      <td>...</td>\n",
              "      <td>...</td>\n",
              "      <td>...</td>\n",
              "      <td>...</td>\n",
              "      <td>...</td>\n",
              "      <td>...</td>\n",
              "      <td>...</td>\n",
              "      <td>...</td>\n",
              "      <td>...</td>\n",
              "      <td>...</td>\n",
              "      <td>...</td>\n",
              "      <td>...</td>\n",
              "    </tr>\n",
              "    <tr>\n",
              "      <th>605</th>\n",
              "      <td>0.164191</td>\n",
              "      <td>0.028429</td>\n",
              "      <td>0.012993</td>\n",
              "      <td>0.200395</td>\n",
              "      <td>0.106435</td>\n",
              "      <td>0.102123</td>\n",
              "      <td>0.200035</td>\n",
              "      <td>0.099388</td>\n",
              "      <td>0.075898</td>\n",
              "      <td>0.088963</td>\n",
              "      <td>0.072988</td>\n",
              "      <td>0.075012</td>\n",
              "      <td>0.078030</td>\n",
              "      <td>0.100258</td>\n",
              "      <td>0.176102</td>\n",
              "      <td>0.187991</td>\n",
              "      <td>0.228150</td>\n",
              "      <td>0.244718</td>\n",
              "      <td>0.197557</td>\n",
              "      <td>0.133759</td>\n",
              "      <td>0.154664</td>\n",
              "      <td>0.146306</td>\n",
              "      <td>0.180398</td>\n",
              "      <td>0.120349</td>\n",
              "      <td>0.073508</td>\n",
              "      <td>0.057984</td>\n",
              "      <td>0.116688</td>\n",
              "      <td>0.239141</td>\n",
              "      <td>0.109923</td>\n",
              "      <td>0.083593</td>\n",
              "      <td>0.076391</td>\n",
              "      <td>0.113624</td>\n",
              "      <td>0.183288</td>\n",
              "      <td>0.126329</td>\n",
              "      <td>0.050278</td>\n",
              "      <td>0.094634</td>\n",
              "      <td>0.057503</td>\n",
              "      <td>0.110744</td>\n",
              "      <td>0.150151</td>\n",
              "      <td>0.096332</td>\n",
              "      <td>...</td>\n",
              "      <td>0.066803</td>\n",
              "      <td>0.201933</td>\n",
              "      <td>0.172313</td>\n",
              "      <td>0.050543</td>\n",
              "      <td>0.056985</td>\n",
              "      <td>0.024948</td>\n",
              "      <td>0.161706</td>\n",
              "      <td>0.029230</td>\n",
              "      <td>0.113237</td>\n",
              "      <td>0.303959</td>\n",
              "      <td>0.152900</td>\n",
              "      <td>0.076863</td>\n",
              "      <td>0.056115</td>\n",
              "      <td>0.073394</td>\n",
              "      <td>0.102095</td>\n",
              "      <td>0.120445</td>\n",
              "      <td>0.181949</td>\n",
              "      <td>0.100667</td>\n",
              "      <td>0.107110</td>\n",
              "      <td>0.313587</td>\n",
              "      <td>0.104047</td>\n",
              "      <td>0.076050</td>\n",
              "      <td>0.201965</td>\n",
              "      <td>0.141106</td>\n",
              "      <td>0.089641</td>\n",
              "      <td>0.186620</td>\n",
              "      <td>0.247790</td>\n",
              "      <td>0.060730</td>\n",
              "      <td>0.307964</td>\n",
              "      <td>0.310161</td>\n",
              "      <td>0.178084</td>\n",
              "      <td>0.116534</td>\n",
              "      <td>0.300669</td>\n",
              "      <td>0.066032</td>\n",
              "      <td>0.148141</td>\n",
              "      <td>1.000000</td>\n",
              "      <td>0.153063</td>\n",
              "      <td>0.262558</td>\n",
              "      <td>0.069622</td>\n",
              "      <td>0.201104</td>\n",
              "    </tr>\n",
              "    <tr>\n",
              "      <th>606</th>\n",
              "      <td>0.269389</td>\n",
              "      <td>0.012948</td>\n",
              "      <td>0.019247</td>\n",
              "      <td>0.131746</td>\n",
              "      <td>0.152866</td>\n",
              "      <td>0.162182</td>\n",
              "      <td>0.186114</td>\n",
              "      <td>0.185142</td>\n",
              "      <td>0.011844</td>\n",
              "      <td>0.010451</td>\n",
              "      <td>0.269857</td>\n",
              "      <td>0.032357</td>\n",
              "      <td>0.041894</td>\n",
              "      <td>0.163128</td>\n",
              "      <td>0.172278</td>\n",
              "      <td>0.108235</td>\n",
              "      <td>0.232015</td>\n",
              "      <td>0.191474</td>\n",
              "      <td>0.267631</td>\n",
              "      <td>0.076034</td>\n",
              "      <td>0.126051</td>\n",
              "      <td>0.032362</td>\n",
              "      <td>0.060483</td>\n",
              "      <td>0.133275</td>\n",
              "      <td>0.068520</td>\n",
              "      <td>0.172314</td>\n",
              "      <td>0.145752</td>\n",
              "      <td>0.177644</td>\n",
              "      <td>0.104298</td>\n",
              "      <td>0.128971</td>\n",
              "      <td>0.146604</td>\n",
              "      <td>0.152270</td>\n",
              "      <td>0.178559</td>\n",
              "      <td>0.119460</td>\n",
              "      <td>0.054149</td>\n",
              "      <td>0.083398</td>\n",
              "      <td>0.175458</td>\n",
              "      <td>0.163489</td>\n",
              "      <td>0.250775</td>\n",
              "      <td>0.126054</td>\n",
              "      <td>...</td>\n",
              "      <td>0.157236</td>\n",
              "      <td>0.172598</td>\n",
              "      <td>0.230264</td>\n",
              "      <td>0.174995</td>\n",
              "      <td>0.063632</td>\n",
              "      <td>0.005566</td>\n",
              "      <td>0.277245</td>\n",
              "      <td>0.000000</td>\n",
              "      <td>0.142133</td>\n",
              "      <td>0.222980</td>\n",
              "      <td>0.089457</td>\n",
              "      <td>0.042290</td>\n",
              "      <td>0.018075</td>\n",
              "      <td>0.172968</td>\n",
              "      <td>0.037530</td>\n",
              "      <td>0.137029</td>\n",
              "      <td>0.156100</td>\n",
              "      <td>0.195432</td>\n",
              "      <td>0.172363</td>\n",
              "      <td>0.303766</td>\n",
              "      <td>0.096840</td>\n",
              "      <td>0.179560</td>\n",
              "      <td>0.159920</td>\n",
              "      <td>0.230269</td>\n",
              "      <td>0.039137</td>\n",
              "      <td>0.141012</td>\n",
              "      <td>0.261206</td>\n",
              "      <td>0.002461</td>\n",
              "      <td>0.229975</td>\n",
              "      <td>0.219444</td>\n",
              "      <td>0.092525</td>\n",
              "      <td>0.199910</td>\n",
              "      <td>0.203540</td>\n",
              "      <td>0.137834</td>\n",
              "      <td>0.118780</td>\n",
              "      <td>0.153063</td>\n",
              "      <td>1.000000</td>\n",
              "      <td>0.283081</td>\n",
              "      <td>0.149190</td>\n",
              "      <td>0.139114</td>\n",
              "    </tr>\n",
              "    <tr>\n",
              "      <th>607</th>\n",
              "      <td>0.291097</td>\n",
              "      <td>0.046211</td>\n",
              "      <td>0.021128</td>\n",
              "      <td>0.149858</td>\n",
              "      <td>0.135535</td>\n",
              "      <td>0.178809</td>\n",
              "      <td>0.323541</td>\n",
              "      <td>0.187233</td>\n",
              "      <td>0.100435</td>\n",
              "      <td>0.077424</td>\n",
              "      <td>0.165329</td>\n",
              "      <td>0.045540</td>\n",
              "      <td>0.150508</td>\n",
              "      <td>0.139580</td>\n",
              "      <td>0.239751</td>\n",
              "      <td>0.182810</td>\n",
              "      <td>0.226019</td>\n",
              "      <td>0.328848</td>\n",
              "      <td>0.357684</td>\n",
              "      <td>0.255559</td>\n",
              "      <td>0.241128</td>\n",
              "      <td>0.194950</td>\n",
              "      <td>0.157319</td>\n",
              "      <td>0.170871</td>\n",
              "      <td>0.077472</td>\n",
              "      <td>0.115403</td>\n",
              "      <td>0.143279</td>\n",
              "      <td>0.341066</td>\n",
              "      <td>0.108109</td>\n",
              "      <td>0.097244</td>\n",
              "      <td>0.124598</td>\n",
              "      <td>0.157475</td>\n",
              "      <td>0.182282</td>\n",
              "      <td>0.245362</td>\n",
              "      <td>0.079864</td>\n",
              "      <td>0.088450</td>\n",
              "      <td>0.137988</td>\n",
              "      <td>0.159527</td>\n",
              "      <td>0.249292</td>\n",
              "      <td>0.138185</td>\n",
              "      <td>...</td>\n",
              "      <td>0.090180</td>\n",
              "      <td>0.162648</td>\n",
              "      <td>0.366207</td>\n",
              "      <td>0.133860</td>\n",
              "      <td>0.084302</td>\n",
              "      <td>0.059132</td>\n",
              "      <td>0.205068</td>\n",
              "      <td>0.000000</td>\n",
              "      <td>0.158486</td>\n",
              "      <td>0.463412</td>\n",
              "      <td>0.178818</td>\n",
              "      <td>0.057913</td>\n",
              "      <td>0.099307</td>\n",
              "      <td>0.164377</td>\n",
              "      <td>0.182266</td>\n",
              "      <td>0.193141</td>\n",
              "      <td>0.135310</td>\n",
              "      <td>0.160833</td>\n",
              "      <td>0.113565</td>\n",
              "      <td>0.397702</td>\n",
              "      <td>0.180687</td>\n",
              "      <td>0.221534</td>\n",
              "      <td>0.256632</td>\n",
              "      <td>0.210040</td>\n",
              "      <td>0.048688</td>\n",
              "      <td>0.273697</td>\n",
              "      <td>0.247656</td>\n",
              "      <td>0.048990</td>\n",
              "      <td>0.427623</td>\n",
              "      <td>0.373028</td>\n",
              "      <td>0.158355</td>\n",
              "      <td>0.197514</td>\n",
              "      <td>0.232771</td>\n",
              "      <td>0.155306</td>\n",
              "      <td>0.178142</td>\n",
              "      <td>0.262558</td>\n",
              "      <td>0.283081</td>\n",
              "      <td>1.000000</td>\n",
              "      <td>0.121993</td>\n",
              "      <td>0.322055</td>\n",
              "    </tr>\n",
              "    <tr>\n",
              "      <th>608</th>\n",
              "      <td>0.093572</td>\n",
              "      <td>0.027565</td>\n",
              "      <td>0.000000</td>\n",
              "      <td>0.032198</td>\n",
              "      <td>0.261232</td>\n",
              "      <td>0.214234</td>\n",
              "      <td>0.090840</td>\n",
              "      <td>0.423993</td>\n",
              "      <td>0.000000</td>\n",
              "      <td>0.021766</td>\n",
              "      <td>0.243111</td>\n",
              "      <td>0.000000</td>\n",
              "      <td>0.000000</td>\n",
              "      <td>0.290085</td>\n",
              "      <td>0.092756</td>\n",
              "      <td>0.056137</td>\n",
              "      <td>0.178866</td>\n",
              "      <td>0.107490</td>\n",
              "      <td>0.101163</td>\n",
              "      <td>0.000000</td>\n",
              "      <td>0.066256</td>\n",
              "      <td>0.085359</td>\n",
              "      <td>0.026316</td>\n",
              "      <td>0.102989</td>\n",
              "      <td>0.024313</td>\n",
              "      <td>0.392579</td>\n",
              "      <td>0.065996</td>\n",
              "      <td>0.090873</td>\n",
              "      <td>0.081750</td>\n",
              "      <td>0.081547</td>\n",
              "      <td>0.074893</td>\n",
              "      <td>0.108999</td>\n",
              "      <td>0.186822</td>\n",
              "      <td>0.093544</td>\n",
              "      <td>0.213665</td>\n",
              "      <td>0.036608</td>\n",
              "      <td>0.369436</td>\n",
              "      <td>0.320054</td>\n",
              "      <td>0.072277</td>\n",
              "      <td>0.224892</td>\n",
              "      <td>...</td>\n",
              "      <td>0.033209</td>\n",
              "      <td>0.128006</td>\n",
              "      <td>0.133284</td>\n",
              "      <td>0.381254</td>\n",
              "      <td>0.049083</td>\n",
              "      <td>0.000000</td>\n",
              "      <td>0.126357</td>\n",
              "      <td>0.020983</td>\n",
              "      <td>0.105622</td>\n",
              "      <td>0.125743</td>\n",
              "      <td>0.068017</td>\n",
              "      <td>0.000000</td>\n",
              "      <td>0.062826</td>\n",
              "      <td>0.390869</td>\n",
              "      <td>0.029161</td>\n",
              "      <td>0.090871</td>\n",
              "      <td>0.078900</td>\n",
              "      <td>0.418791</td>\n",
              "      <td>0.255039</td>\n",
              "      <td>0.110791</td>\n",
              "      <td>0.031238</td>\n",
              "      <td>0.379788</td>\n",
              "      <td>0.110493</td>\n",
              "      <td>0.114996</td>\n",
              "      <td>0.000000</td>\n",
              "      <td>0.054495</td>\n",
              "      <td>0.092068</td>\n",
              "      <td>0.000000</td>\n",
              "      <td>0.102966</td>\n",
              "      <td>0.104708</td>\n",
              "      <td>0.035653</td>\n",
              "      <td>0.335231</td>\n",
              "      <td>0.061941</td>\n",
              "      <td>0.236601</td>\n",
              "      <td>0.097610</td>\n",
              "      <td>0.069622</td>\n",
              "      <td>0.149190</td>\n",
              "      <td>0.121993</td>\n",
              "      <td>1.000000</td>\n",
              "      <td>0.053225</td>\n",
              "    </tr>\n",
              "    <tr>\n",
              "      <th>609</th>\n",
              "      <td>0.145321</td>\n",
              "      <td>0.102427</td>\n",
              "      <td>0.032119</td>\n",
              "      <td>0.107683</td>\n",
              "      <td>0.060792</td>\n",
              "      <td>0.052668</td>\n",
              "      <td>0.193219</td>\n",
              "      <td>0.078153</td>\n",
              "      <td>0.074399</td>\n",
              "      <td>0.121072</td>\n",
              "      <td>0.087531</td>\n",
              "      <td>0.023848</td>\n",
              "      <td>0.107163</td>\n",
              "      <td>0.065269</td>\n",
              "      <td>0.249504</td>\n",
              "      <td>0.196072</td>\n",
              "      <td>0.230189</td>\n",
              "      <td>0.362613</td>\n",
              "      <td>0.138900</td>\n",
              "      <td>0.124612</td>\n",
              "      <td>0.295948</td>\n",
              "      <td>0.192813</td>\n",
              "      <td>0.153348</td>\n",
              "      <td>0.218025</td>\n",
              "      <td>0.118990</td>\n",
              "      <td>0.065916</td>\n",
              "      <td>0.079354</td>\n",
              "      <td>0.304640</td>\n",
              "      <td>0.147952</td>\n",
              "      <td>0.172601</td>\n",
              "      <td>0.076765</td>\n",
              "      <td>0.085627</td>\n",
              "      <td>0.083908</td>\n",
              "      <td>0.169482</td>\n",
              "      <td>0.018251</td>\n",
              "      <td>0.046304</td>\n",
              "      <td>0.059176</td>\n",
              "      <td>0.052409</td>\n",
              "      <td>0.159900</td>\n",
              "      <td>0.037655</td>\n",
              "      <td>...</td>\n",
              "      <td>0.042935</td>\n",
              "      <td>0.100115</td>\n",
              "      <td>0.365517</td>\n",
              "      <td>0.066726</td>\n",
              "      <td>0.016225</td>\n",
              "      <td>0.009431</td>\n",
              "      <td>0.125386</td>\n",
              "      <td>0.024748</td>\n",
              "      <td>0.064482</td>\n",
              "      <td>0.317601</td>\n",
              "      <td>0.151734</td>\n",
              "      <td>0.213029</td>\n",
              "      <td>0.071101</td>\n",
              "      <td>0.056197</td>\n",
              "      <td>0.153213</td>\n",
              "      <td>0.226441</td>\n",
              "      <td>0.046506</td>\n",
              "      <td>0.088142</td>\n",
              "      <td>0.052429</td>\n",
              "      <td>0.293420</td>\n",
              "      <td>0.098384</td>\n",
              "      <td>0.072638</td>\n",
              "      <td>0.165056</td>\n",
              "      <td>0.092025</td>\n",
              "      <td>0.026204</td>\n",
              "      <td>0.306113</td>\n",
              "      <td>0.140886</td>\n",
              "      <td>0.078523</td>\n",
              "      <td>0.395932</td>\n",
              "      <td>0.220974</td>\n",
              "      <td>0.222491</td>\n",
              "      <td>0.087528</td>\n",
              "      <td>0.163094</td>\n",
              "      <td>0.052552</td>\n",
              "      <td>0.119295</td>\n",
              "      <td>0.201104</td>\n",
              "      <td>0.139114</td>\n",
              "      <td>0.322055</td>\n",
              "      <td>0.053225</td>\n",
              "      <td>1.000000</td>\n",
              "    </tr>\n",
              "  </tbody>\n",
              "</table>\n",
              "<p>610 rows × 610 columns</p>\n",
              "</div>"
            ],
            "text/plain": [
              "          0         1         2    ...       607       608       609\n",
              "0    1.000000  0.027283  0.059720  ...  0.291097  0.093572  0.145321\n",
              "1    0.027283  1.000000  0.000000  ...  0.046211  0.027565  0.102427\n",
              "2    0.059720  0.000000  1.000000  ...  0.021128  0.000000  0.032119\n",
              "3    0.194395  0.003726  0.002251  ...  0.149858  0.032198  0.107683\n",
              "4    0.129080  0.016614  0.005020  ...  0.135535  0.261232  0.060792\n",
              "..        ...       ...       ...  ...       ...       ...       ...\n",
              "605  0.164191  0.028429  0.012993  ...  0.262558  0.069622  0.201104\n",
              "606  0.269389  0.012948  0.019247  ...  0.283081  0.149190  0.139114\n",
              "607  0.291097  0.046211  0.021128  ...  1.000000  0.121993  0.322055\n",
              "608  0.093572  0.027565  0.000000  ...  0.121993  1.000000  0.053225\n",
              "609  0.145321  0.102427  0.032119  ...  0.322055  0.053225  1.000000\n",
              "\n",
              "[610 rows x 610 columns]"
            ]
          },
          "metadata": {
            "tags": []
          },
          "execution_count": 79
        }
      ]
    },
    {
      "cell_type": "code",
      "metadata": {
        "id": "fHBPCq7a3u0K"
      },
      "source": [
        "\n",
        "def get_similarUser(userId,movieId):\n",
        "  topSimilarUserRating = []\n",
        "  sim_scores = list(enumerate(user_similarity[userId-1]))\n",
        "  # print(\"sim_scores\",sim_scores)\n",
        "  sim_scores = sorted(sim_scores, key=lambda x: x[1], reverse=True)\n",
        "\n",
        "  userRateMovie = list(merge_rating[merge_rating['movieId']==movieId]['userId'])\n",
        "  #find top similar user \n",
        "  sim_scores = sim_scores[1:]\n",
        "  count=0\n",
        "  \n",
        "  for sim_user,score in sim_scores:\n",
        "    if int(sim_user) in userRateMovie:\n",
        "      \n",
        "      #rate=list(merge_rating[merge_rating['movieId']==movieId][merge_rating['userId']==int(sim_user)]['rating'])[0]\n",
        "      rate=list(merge_rating.loc[(merge_rating['movieId'] == movieId) & (merge_rating['userId']==sim_user)][\"rating\"])[0]\n",
        "      topSimilarUserRating.append(rate)\n",
        "      count+=1\n",
        "    if count==3:\n",
        "      return topSimilarUserRating\n",
        "  while count!=3:\n",
        "    userRating = list(merge_rating[merge_rating.userId==userId][merge_rating.movieId==movieId][\"rating\"])[0]\n",
        "    topSimilarUserRating.append(userRating)\n",
        "    count+=1\n",
        "  return topSimilarUserRating\n"
      ],
      "execution_count": null,
      "outputs": []
    },
    {
      "cell_type": "code",
      "metadata": {
        "id": "csIyqJOR4odJ"
      },
      "source": [
        "\n",
        "user1=[]\n",
        "user2=[]\n",
        "user3=[]\n",
        "\n",
        "for id in range(len(movieId)):\n",
        "  simUser = get_similarUser(userId[id],movieId[id])\n",
        "  user1.append(simUser[0])\n",
        "  user2.append(simUser[1])\n",
        "  user3.append(simUser[2])\n",
        "print(len(user1),len(user2),len(user3))\n",
        "  \n",
        "merge_rating[\"similarUser1\"] = user1\n",
        "merge_rating[\"similarUser2\"] = user2\n",
        "merge_rating[\"similarUser3\"] = user3\n",
        "\n",
        "merge_rating\n"
      ],
      "execution_count": null,
      "outputs": []
    },
    {
      "cell_type": "markdown",
      "metadata": {
        "id": "B_YHUSpnzmAw"
      },
      "source": [
        "Content based recommendation system\n",
        "1.Handle data - > combine the content/ meta data we want \n",
        "2.Then split the data to training data and testing data "
      ]
    },
    {
      "cell_type": "code",
      "metadata": {
        "id": "mTbNRCMMeBvT",
        "colab": {
          "base_uri": "https://localhost:8080/"
        },
        "outputId": "dc8d3490-9497-4b81-b387-7d80ea4c750c"
      },
      "source": [
        "invalidRow= []\n",
        "for id in movies_metadata['id']:\n",
        "  if(not id.isdigit()):\n",
        "    invalidRow.append(id) \n",
        "print(\"invalidRow\",invalidRow)\n",
        "unique_index = pd.Index(list(movies_metadata['id']))\n",
        "invalidRowIndex=[]\n",
        "for id in invalidRow:\n",
        "  invalidRowIndex.append(unique_index.get_loc(id))\n",
        "print(invalidRowIndex)\n"
      ],
      "execution_count": null,
      "outputs": [
        {
          "output_type": "stream",
          "text": [
            "invalidRow ['1997-08-20', '2012-09-29', '2014-01-01']\n",
            "[19730, 29503, 35587]\n"
          ],
          "name": "stdout"
        }
      ]
    },
    {
      "cell_type": "code",
      "metadata": {
        "colab": {
          "base_uri": "https://localhost:8080/"
        },
        "id": "ppKFNl_wgKnY",
        "outputId": "726c4ea3-eaa8-4f4d-b699-a9f52759efb6"
      },
      "source": [
        "movies_metadata=movies_metadata.drop(invalidRowIndex)\n",
        "movies_metadata.shape"
      ],
      "execution_count": null,
      "outputs": [
        {
          "output_type": "execute_result",
          "data": {
            "text/plain": [
              "(45463, 24)"
            ]
          },
          "metadata": {
            "tags": []
          },
          "execution_count": 51
        }
      ]
    },
    {
      "cell_type": "code",
      "metadata": {
        "id": "vrmwVeD7FxB1",
        "colab": {
          "base_uri": "https://localhost:8080/"
        },
        "outputId": "b30cac36-4883-41c4-e507-f7befe6d65ff"
      },
      "source": [
        "movies_metadata['id'] = movies_metadata['id'].astype('int')\n",
        "links_small = links[links['tmdbId'].notnull()]['tmdbId'].astype('int')\n",
        "\n",
        "movie_info_small = movies_metadata[movies_metadata['id'].isin(links_small)]\n",
        "movie_info_small.shape\n"
      ],
      "execution_count": null,
      "outputs": [
        {
          "output_type": "execute_result",
          "data": {
            "text/plain": [
              "(9553, 24)"
            ]
          },
          "metadata": {
            "tags": []
          },
          "execution_count": 52
        }
      ]
    },
    {
      "cell_type": "code",
      "metadata": {
        "id": "Pe4hVoK3cxhg",
        "colab": {
          "base_uri": "https://localhost:8080/"
        },
        "outputId": "88244583-74d4-4717-a82e-d2def2f0fe13"
      },
      "source": [
        "keywords['id'] = keywords['id'].astype('int')\n",
        "credits['id'] = credits['id'].astype('int')\n",
        "movies_metadata['id'] = movies_metadata['id'].astype('int')\n",
        "movies_metadata.shape"
      ],
      "execution_count": null,
      "outputs": [
        {
          "output_type": "execute_result",
          "data": {
            "text/plain": [
              "(45463, 24)"
            ]
          },
          "metadata": {
            "tags": []
          },
          "execution_count": 53
        }
      ]
    },
    {
      "cell_type": "code",
      "metadata": {
        "colab": {
          "base_uri": "https://localhost:8080/"
        },
        "id": "ZtS6L7PebSBT",
        "outputId": "3a4fcbf6-4c9b-43af-bbf1-67cac909a2ab"
      },
      "source": [
        "movies_metadata = movies_metadata.merge(keywords,on=\"id\")\n",
        "movies_metadata = movies_metadata.merge(credits, on=\"id\")\n",
        "\n",
        "movies_metadata_small = movies_metadata[movies_metadata['id'].isin(links_small)]\n",
        "movies_metadata_small.shape"
      ],
      "execution_count": null,
      "outputs": [
        {
          "output_type": "execute_result",
          "data": {
            "text/plain": [
              "(9657, 27)"
            ]
          },
          "metadata": {
            "tags": []
          },
          "execution_count": 54
        }
      ]
    },
    {
      "cell_type": "code",
      "metadata": {
        "id": "5dP1R20sLlLh"
      },
      "source": [
        "import ast\n",
        "stemmer = SnowballStemmer('english')\n",
        "features= [\"genres\",\"director\",\"cast\",\"keywords\"]\n",
        "\n",
        "#helper function for extracting value\n",
        "def getDirector(crew):\n",
        "  for member in crew:\n",
        "    \n",
        "    if (member['job']) == \"Director\":\n",
        "      return member['name']\n",
        "  return np.nan\n",
        "def getMainCast(cast):\n",
        "  if len(cast)>=3:\n",
        "    return cast[:3]\n",
        "  return cast\n",
        " \n",
        "    \n",
        "def checkValidKeyWords(keyword):\n",
        "  newkeyword=[]\n",
        "  for key in keyword:\n",
        "    if key in keywordCount:\n",
        "      newkeyword.append(key)\n",
        "  \n",
        "  return newkeyword\n",
        "def stemKeyword(keyword):\n",
        "  newkeyword=[]\n",
        "  for key in keyword:\n",
        "    newkeyword.append(stemmer.stem(key))\n",
        "  return newkeyword\n",
        "\n",
        "def combine_features(row):\n",
        "  res=row['genres']+' '+row['director']+' '+row['keywords']+' '+row['cast']\n",
        "  print(res)\n",
        "  return res\n"
      ],
      "execution_count": null,
      "outputs": []
    },
    {
      "cell_type": "code",
      "metadata": {
        "id": "-7MqMyKUXqHD"
      },
      "source": [
        "movie_info_small=movies_metadata_small"
      ],
      "execution_count": null,
      "outputs": []
    },
    {
      "cell_type": "code",
      "metadata": {
        "id": "sL_-SkXZ2ixO",
        "colab": {
          "base_uri": "https://localhost:8080/"
        },
        "outputId": "f76ddaf7-68d6-4ad7-9a49-65ca3b4723ca"
      },
      "source": [
        "# Escape the string \n",
        "movie_info_small['crew'] = movie_info_small['crew'].fillna('[]').apply(literal_eval).apply(lambda x: [i for i in x])\n",
        "movie_info_small['cast'] = movie_info_small['cast'].fillna('[]').apply(literal_eval).apply(lambda x: [i for i in x])\n",
        "\n",
        "movie_info_small['keywords'] = movie_info_small['keywords'].fillna('[]').apply(literal_eval).apply(lambda x: [i for i in x])\n",
        "movie_info_small['keywords'] = movie_info_small['keywords'].apply(lambda x: [i['name'] for i in x])\n",
        "# Get the first 3 crew \n",
        "movie_info_small['cast'] = movie_info_small['cast'].apply(lambda x: [i['name'] for i in x] if isinstance(x, list) else [])\n",
        "movie_info_small['cast'] = movie_info_small['cast'].apply(getMainCast)\n",
        "# Get the director\n",
        "movie_info_small['director'] = movie_info_small['crew'].apply(getDirector)\n",
        "\n",
        "movie_info_small['genres'] = movie_info_small['genres'].fillna('[]').apply(literal_eval).apply(lambda x: [i for i in x])\n",
        "movie_info_small['genres']=movie_info_small['genres'].apply(lambda x: [i['name'] for i in x])"
      ],
      "execution_count": null,
      "outputs": [
        {
          "output_type": "stream",
          "text": [
            "/usr/local/lib/python3.6/dist-packages/ipykernel_launcher.py:2: SettingWithCopyWarning: \n",
            "A value is trying to be set on a copy of a slice from a DataFrame.\n",
            "Try using .loc[row_indexer,col_indexer] = value instead\n",
            "\n",
            "See the caveats in the documentation: https://pandas.pydata.org/pandas-docs/stable/user_guide/indexing.html#returning-a-view-versus-a-copy\n",
            "  \n",
            "/usr/local/lib/python3.6/dist-packages/ipykernel_launcher.py:3: SettingWithCopyWarning: \n",
            "A value is trying to be set on a copy of a slice from a DataFrame.\n",
            "Try using .loc[row_indexer,col_indexer] = value instead\n",
            "\n",
            "See the caveats in the documentation: https://pandas.pydata.org/pandas-docs/stable/user_guide/indexing.html#returning-a-view-versus-a-copy\n",
            "  This is separate from the ipykernel package so we can avoid doing imports until\n",
            "/usr/local/lib/python3.6/dist-packages/ipykernel_launcher.py:5: SettingWithCopyWarning: \n",
            "A value is trying to be set on a copy of a slice from a DataFrame.\n",
            "Try using .loc[row_indexer,col_indexer] = value instead\n",
            "\n",
            "See the caveats in the documentation: https://pandas.pydata.org/pandas-docs/stable/user_guide/indexing.html#returning-a-view-versus-a-copy\n",
            "  \"\"\"\n",
            "/usr/local/lib/python3.6/dist-packages/ipykernel_launcher.py:6: SettingWithCopyWarning: \n",
            "A value is trying to be set on a copy of a slice from a DataFrame.\n",
            "Try using .loc[row_indexer,col_indexer] = value instead\n",
            "\n",
            "See the caveats in the documentation: https://pandas.pydata.org/pandas-docs/stable/user_guide/indexing.html#returning-a-view-versus-a-copy\n",
            "  \n",
            "/usr/local/lib/python3.6/dist-packages/ipykernel_launcher.py:8: SettingWithCopyWarning: \n",
            "A value is trying to be set on a copy of a slice from a DataFrame.\n",
            "Try using .loc[row_indexer,col_indexer] = value instead\n",
            "\n",
            "See the caveats in the documentation: https://pandas.pydata.org/pandas-docs/stable/user_guide/indexing.html#returning-a-view-versus-a-copy\n",
            "  \n",
            "/usr/local/lib/python3.6/dist-packages/ipykernel_launcher.py:9: SettingWithCopyWarning: \n",
            "A value is trying to be set on a copy of a slice from a DataFrame.\n",
            "Try using .loc[row_indexer,col_indexer] = value instead\n",
            "\n",
            "See the caveats in the documentation: https://pandas.pydata.org/pandas-docs/stable/user_guide/indexing.html#returning-a-view-versus-a-copy\n",
            "  if __name__ == '__main__':\n",
            "/usr/local/lib/python3.6/dist-packages/ipykernel_launcher.py:11: SettingWithCopyWarning: \n",
            "A value is trying to be set on a copy of a slice from a DataFrame.\n",
            "Try using .loc[row_indexer,col_indexer] = value instead\n",
            "\n",
            "See the caveats in the documentation: https://pandas.pydata.org/pandas-docs/stable/user_guide/indexing.html#returning-a-view-versus-a-copy\n",
            "  # This is added back by InteractiveShellApp.init_path()\n",
            "/usr/local/lib/python3.6/dist-packages/ipykernel_launcher.py:13: SettingWithCopyWarning: \n",
            "A value is trying to be set on a copy of a slice from a DataFrame.\n",
            "Try using .loc[row_indexer,col_indexer] = value instead\n",
            "\n",
            "See the caveats in the documentation: https://pandas.pydata.org/pandas-docs/stable/user_guide/indexing.html#returning-a-view-versus-a-copy\n",
            "  del sys.path[0]\n",
            "/usr/local/lib/python3.6/dist-packages/ipykernel_launcher.py:14: SettingWithCopyWarning: \n",
            "A value is trying to be set on a copy of a slice from a DataFrame.\n",
            "Try using .loc[row_indexer,col_indexer] = value instead\n",
            "\n",
            "See the caveats in the documentation: https://pandas.pydata.org/pandas-docs/stable/user_guide/indexing.html#returning-a-view-versus-a-copy\n",
            "  \n"
          ],
          "name": "stderr"
        }
      ]
    },
    {
      "cell_type": "code",
      "metadata": {
        "colab": {
          "base_uri": "https://localhost:8080/"
        },
        "id": "77E4XaYn6qPX",
        "outputId": "a108de69-9126-4364-a7e8-ece69634b901"
      },
      "source": [
        "keywordCount = movie_info_small.apply(lambda x: pd.Series(x['keywords']),axis=1).stack().reset_index(level=1, drop=True)\n",
        "keywordCount.name = 'keyword'\n",
        "keywordCount = keywordCount.value_counts()\n",
        "keywordCount=keywordCount[keywordCount>1]\n",
        "movie_info_small['keywords']= movie_info_small['keywords'].apply(checkValidKeyWords)\n",
        "movie_info_small['keywords']= movie_info_small['keywords'].apply(stemKeyword)"
      ],
      "execution_count": null,
      "outputs": [
        {
          "output_type": "stream",
          "text": [
            "/usr/local/lib/python3.6/dist-packages/ipykernel_launcher.py:1: DeprecationWarning: The default dtype for empty Series will be 'object' instead of 'float64' in a future version. Specify a dtype explicitly to silence this warning.\n",
            "  \"\"\"Entry point for launching an IPython kernel.\n",
            "/usr/local/lib/python3.6/dist-packages/ipykernel_launcher.py:5: SettingWithCopyWarning: \n",
            "A value is trying to be set on a copy of a slice from a DataFrame.\n",
            "Try using .loc[row_indexer,col_indexer] = value instead\n",
            "\n",
            "See the caveats in the documentation: https://pandas.pydata.org/pandas-docs/stable/user_guide/indexing.html#returning-a-view-versus-a-copy\n",
            "  \"\"\"\n",
            "/usr/local/lib/python3.6/dist-packages/ipykernel_launcher.py:6: SettingWithCopyWarning: \n",
            "A value is trying to be set on a copy of a slice from a DataFrame.\n",
            "Try using .loc[row_indexer,col_indexer] = value instead\n",
            "\n",
            "See the caveats in the documentation: https://pandas.pydata.org/pandas-docs/stable/user_guide/indexing.html#returning-a-view-versus-a-copy\n",
            "  \n"
          ],
          "name": "stderr"
        }
      ]
    },
    {
      "cell_type": "code",
      "metadata": {
        "colab": {
          "base_uri": "https://localhost:8080/"
        },
        "id": "FQLNX4AYL3Pc",
        "outputId": "cb64d48e-bc6b-46a2-8d83-d7e1a322641d"
      },
      "source": [
        "print(\"cast\",movie_info_small['cast'].isnull().values.any())\n",
        "print(\"keywords\",movie_info_small['keywords'].isnull().values.any())\n",
        "print(\"director\",movie_info_small['director'].isnull().values.any())\n",
        "print(\"genres\",movie_info_small['genres'].isnull().values.any())"
      ],
      "execution_count": null,
      "outputs": [
        {
          "output_type": "stream",
          "text": [
            "cast False\n",
            "keywords False\n",
            "director True\n",
            "genres False\n"
          ],
          "name": "stdout"
        }
      ]
    },
    {
      "cell_type": "code",
      "metadata": {
        "id": "LMuS5AaVLuHs",
        "colab": {
          "base_uri": "https://localhost:8080/"
        },
        "outputId": "05a80ac6-326b-43bb-f134-dc131203bd47"
      },
      "source": [
        "for feature in features:\n",
        "    movie_info_small[feature] = movie_info_small[feature].fillna('')\n"
      ],
      "execution_count": null,
      "outputs": [
        {
          "output_type": "stream",
          "text": [
            "/usr/local/lib/python3.6/dist-packages/ipykernel_launcher.py:3: SettingWithCopyWarning: \n",
            "A value is trying to be set on a copy of a slice from a DataFrame.\n",
            "Try using .loc[row_indexer,col_indexer] = value instead\n",
            "\n",
            "See the caveats in the documentation: https://pandas.pydata.org/pandas-docs/stable/user_guide/indexing.html#returning-a-view-versus-a-copy\n",
            "  This is separate from the ipykernel package so we can avoid doing imports until\n"
          ],
          "name": "stderr"
        }
      ]
    },
    {
      "cell_type": "code",
      "metadata": {
        "colab": {
          "base_uri": "https://localhost:8080/"
        },
        "id": "GJNCUOmgExhi",
        "outputId": "db89bd71-7be4-4de5-b762-e6f8d899eaa2"
      },
      "source": [
        "print(\"cast\",movie_info_small['cast'].isnull().values.any())\n",
        "print(\"keywords\",movie_info_small['keywords'].isnull().values.any())\n",
        "print(\"director\",movie_info_small['director'].isnull().values.any())\n",
        "print(\"genres\",movie_info_small['genres'].isnull().values.any())"
      ],
      "execution_count": null,
      "outputs": [
        {
          "output_type": "stream",
          "text": [
            "cast False\n",
            "keywords False\n",
            "director False\n",
            "genres False\n"
          ],
          "name": "stdout"
        }
      ]
    },
    {
      "cell_type": "code",
      "metadata": {
        "id": "JFLry71VO2cj",
        "colab": {
          "base_uri": "https://localhost:8080/"
        },
        "outputId": "5423b112-3773-4d76-fc36-2d48271d093c"
      },
      "source": [
        "movie_info_small['cast'] = movie_info_small['cast'].apply(lambda x: [str.lower(i.replace(\" \", \"\")) for i in x])\n",
        "movie_info_small['director'] = movie_info_small['director'].astype('str').apply(lambda x: str.lower(x.replace(\" \", \"\")))\n",
        "movie_info_small['director'] = movie_info_small['director'].apply(lambda x: [x,x, x])"
      ],
      "execution_count": null,
      "outputs": [
        {
          "output_type": "stream",
          "text": [
            "/usr/local/lib/python3.6/dist-packages/ipykernel_launcher.py:1: SettingWithCopyWarning: \n",
            "A value is trying to be set on a copy of a slice from a DataFrame.\n",
            "Try using .loc[row_indexer,col_indexer] = value instead\n",
            "\n",
            "See the caveats in the documentation: https://pandas.pydata.org/pandas-docs/stable/user_guide/indexing.html#returning-a-view-versus-a-copy\n",
            "  \"\"\"Entry point for launching an IPython kernel.\n",
            "/usr/local/lib/python3.6/dist-packages/ipykernel_launcher.py:2: SettingWithCopyWarning: \n",
            "A value is trying to be set on a copy of a slice from a DataFrame.\n",
            "Try using .loc[row_indexer,col_indexer] = value instead\n",
            "\n",
            "See the caveats in the documentation: https://pandas.pydata.org/pandas-docs/stable/user_guide/indexing.html#returning-a-view-versus-a-copy\n",
            "  \n"
          ],
          "name": "stderr"
        }
      ]
    },
    {
      "cell_type": "code",
      "metadata": {
        "id": "ef_v8ndgCb3u"
      },
      "source": [
        "\n",
        "movie_info_small['combine']=movie_info_small['genres']+movie_info_small['keywords']+movie_info_small['cast']+movie_info_small['director']\n",
        "movie_info_small['combine']=movie_info_small['combine'].apply(lambda x:' '.join(x))"
      ],
      "execution_count": null,
      "outputs": []
    },
    {
      "cell_type": "code",
      "metadata": {
        "id": "L71cvTHdPwqt"
      },
      "source": [
        "from sklearn.metrics.pairwise import cosine_similarity\n",
        "from sklearn.feature_extraction.text import TfidfVectorizer\n",
        "\n",
        "cv=TfidfVectorizer(analyzer='word',ngram_range=(1, 2),min_df=0, stop_words='english')\n",
        "\n",
        "count_matrix = cv.fit_transform(movie_info_small['combine'])\n",
        "cosine_sim=cosine_similarity(count_matrix,count_matrix)"
      ],
      "execution_count": null,
      "outputs": []
    },
    {
      "cell_type": "code",
      "metadata": {
        "id": "V3_1hts7XAbQ",
        "colab": {
          "base_uri": "https://localhost:8080/"
        },
        "outputId": "6982f7a4-30d4-417f-e5e6-b3bcf2a728bc"
      },
      "source": [
        "print(cosine_sim)"
      ],
      "execution_count": null,
      "outputs": [
        {
          "output_type": "stream",
          "text": [
            "[[1.         0.00819442 0.00961418 ... 0.00132857 0.00347783 0.00485545]\n",
            " [0.00819442 1.         0.         ... 0.         0.         0.        ]\n",
            " [0.00961418 0.         1.         ... 0.00174356 0.00456415 0.        ]\n",
            " ...\n",
            " [0.00132857 0.         0.00174356 ... 1.         0.0043331  0.        ]\n",
            " [0.00347783 0.         0.00456415 ... 0.0043331  1.         0.        ]\n",
            " [0.00485545 0.         0.         ... 0.         0.         1.        ]]\n"
          ],
          "name": "stdout"
        }
      ]
    },
    {
      "cell_type": "code",
      "metadata": {
        "colab": {
          "base_uri": "https://localhost:8080/"
        },
        "id": "0yZvkPDZ5w04",
        "outputId": "99b3391a-0db3-4ba5-bc72-45da1fbeb7b6"
      },
      "source": [
        "cosine_sim = pd.DataFrame( cosine_sim )\n",
        "cosine_sim.shape"
      ],
      "execution_count": null,
      "outputs": [
        {
          "output_type": "execute_result",
          "data": {
            "text/plain": [
              "(9657, 9657)"
            ]
          },
          "metadata": {
            "tags": []
          },
          "execution_count": 68
        }
      ]
    },
    {
      "cell_type": "code",
      "metadata": {
        "id": "gnMrqdaE8yqX",
        "colab": {
          "base_uri": "https://localhost:8080/"
        },
        "outputId": "bbfe93e9-2bfc-4aa3-d283-caf70a8b39f4"
      },
      "source": [
        "now_id = list(movie_info_small[\"id\"].ravel())\n",
        "before_id = merge_rating[\"movieId\"]\n",
        "print(len(now_id))\n",
        "print(len(before_id.unique()))\n",
        "print(len(before_id))\n",
        "now_id_enum = list(enumerate(now_id))\n"
      ],
      "execution_count": null,
      "outputs": [
        {
          "output_type": "stream",
          "text": [
            "9657\n",
            "9724\n",
            "100836\n"
          ],
          "name": "stdout"
        }
      ]
    },
    {
      "cell_type": "code",
      "metadata": {
        "id": "K0DD0SV4NFHg"
      },
      "source": [
        "len(links[\"movieId\"])\n",
        "len(links[\"tmdbId\"])\n",
        "\n",
        "movieIdMapping={}\n",
        "for i in range(len(links[\"movieId\"])):\n",
        "  movieIdMapping[links[\"movieId\"][i]] = links[\"tmdbId\"][i]\n",
        "len(movieIdMapping)\n",
        "movieIdMapping_reverse = dict((y,x) for x,y in movieIdMapping.items())"
      ],
      "execution_count": null,
      "outputs": []
    },
    {
      "cell_type": "code",
      "metadata": {
        "id": "S3dOvtdahxL3"
      },
      "source": [
        "def get_similar_movie(userId,movieId):\n",
        "  topSimilarMovieRating = []\n",
        "  #tmdbId = list(links[links[\"movieId\"]==movieId][\"tmdbId\"])[0]\n",
        "  tmdbId = movieIdMapping[movieId]\n",
        "  if(tmdbId not in now_id):\n",
        "    # use this user's rating to this movie\n",
        "    userRating =list(merge_rating[merge_rating.userId==userId][merge_rating.movieId==movieId][\"rating\"])[0]\n",
        "    topSimilarMovieRating=[userRating,userRating,userRating]\n",
        "    return topSimilarMovieRating\n",
        "\n",
        "  else:\n",
        "    sim_index = now_id.index(tmdbId)\n",
        "    #find user rating of the similar movie\n",
        "    sim_scores = list(enumerate(cosine_sim[sim_index]))\n",
        "    # print(\"sim_scores\",sim_scores)\n",
        "    sim_scores = sorted(sim_scores, key=lambda x: x[1], reverse=True)\n",
        "    #All the movies id this particular users rates, userRateMovie-oldId\n",
        "    userRateMovie = list(merge_rating[merge_rating['userId']==userId]['movieId'])\n",
        "    #find top similar movies excluding itself\n",
        "    sim_scores = sim_scores[1:]\n",
        "    count=0\n",
        "    # print(\"sim_scores\",sim_scores)\n",
        "    # iterate through all the movies- index of tmdbId\n",
        "    for sim_movie,score in sim_scores:\n",
        "      # tmdbId movie id \n",
        "      mapping_movie = now_id_enum[sim_movie][1]\n",
        "      #sim_movie_Id = list(links[links[\"tmdbId\"]==mapping_movie][\"movieId\"])[0]\n",
        "      sim_movie_Id =movieIdMapping_reverse[mapping_movie]\n",
        "      if sim_movie_Id in userRateMovie:\n",
        "        rate=list(merge_rating[merge_rating['movieId']==sim_movie_Id][merge_rating['userId']==userId]['rating'])[0]\n",
        "        topSimilarMovieRating.append(rate)\n",
        "        count+=1\n",
        "      if count==3:\n",
        "        return topSimilarMovieRating\n",
        "    while count!=3:\n",
        "      userRatings = list(merge_rating[merge_rating.userId==userId][merge_rating.movieId==movieId][\"rating\"])[0]\n",
        "      topSimilarMovieRating.append(userRatings)\n",
        "      count+=1\n",
        "    return topSimilarMovieRating"
      ],
      "execution_count": null,
      "outputs": []
    },
    {
      "cell_type": "code",
      "metadata": {
        "id": "wDjvsnhz4dPA"
      },
      "source": [
        "movie1=[]\n",
        "movie2=[]\n",
        "movie3=[]\n",
        "print(userId,movieId)\n",
        "for id in range(len(movieId)):\n",
        "  print(id)\n",
        "  simMovie = get_similar_movie(userId[id],movieId[id])\n",
        "  movie1.append(simMovie[0])\n",
        "  movie2.append(simMovie[1])\n",
        "  movie3.append(simMovie[2])\n",
        "print(len(movie1),len(movie2),len(movie3))\n",
        "merge_rating[\"similarMovie1\"] = movie1\n",
        "merge_rating[\"similarMovie2\"] = movie2\n",
        "merge_rating[\"similarMovie3\"] = movie3\n",
        "\n",
        "merge_rating\n"
      ],
      "execution_count": null,
      "outputs": []
    },
    {
      "cell_type": "markdown",
      "metadata": {
        "id": "4m0PR0X2ZJXJ"
      },
      "source": [
        "# Getting RMSE and MAE value"
      ]
    },
    {
      "cell_type": "code",
      "metadata": {
        "id": "WWCVPUcaKeyJ"
      },
      "source": [
        "def get_error_metrics(y_true, y_pred):\n",
        "    rmse = np.sqrt(np.mean([ (y_true[i] - y_pred[i])**2 for i in range(len(y_pred)) ]))\n",
        "    mae = np.mean(np.abs(y_true - y_pred))\n",
        "    return rmse, mae  "
      ],
      "execution_count": null,
      "outputs": []
    },
    {
      "cell_type": "markdown",
      "metadata": {
        "id": "AQ6V79d7ZN68"
      },
      "source": [
        "#KNN model"
      ]
    },
    {
      "cell_type": "code",
      "metadata": {
        "id": "CqRIT-6QUquq"
      },
      "source": [
        "from sklearn.neighbors import KNeighborsRegressor\n",
        "rmse=[]\n",
        "mae=[]\n",
        "accuracies_K = []\n",
        "mae_K=[]\n",
        "rms_avg=[]\n",
        "mae_avg=[]\n",
        "k_folds=5\n",
        "index = int(len(trainingX)/k_folds)\n",
        "hyperparams_k=[1,2,4,8,16,24,32,64,128,256]\n",
        "for k in hyperparams_k:\n",
        "  rmse =[]\n",
        "  mae=[]\n",
        "  for k_split in range(1,k_folds+1):\n",
        "      validation_data = trainingX[int((k_split-1))*index : int(k_split*index)]\n",
        "      validation_label = trainingY[int((k_split-1))*index : int(k_split*index)]\n",
        "\n",
        "      training1_data = trainingX[0:(k_split-1)*index]\n",
        "      training2_data =trainingX[k_split*index:]\n",
        "      training_data = np.concatenate((training1_data,training2_data)) \n",
        "\n",
        "      training1_label = trainingY[0:(k_split-1)*index]\n",
        "      training2_label =trainingY[k_split*index:]\n",
        "      training_label = np.concatenate((training1_label,training2_label))\n",
        "      \n",
        "      knn = KNeighborsRegressor(n_neighbors=k)\n",
        "      knn.fit(training_data, training_label)\n",
        "      y_train_pred = knn.predict(validation_data)\n",
        "      rmse_test, mae_test = get_error_metrics(validation_label.values, y_train_pred)\n",
        "      rmse.append(rmse_test)\n",
        "      mae.append(mae_test)\n",
        "  rms_avg.append(sum(rmse)/len(rmse))\n",
        "  mae_avg.append(sum(mae)/len(mae))\n",
        "rmse_K = np.array(rms_avg)\n",
        "mae_K=np.array(mae_avg)\n",
        "bestK_index = np.argmin(rmse_K)\n",
        "best_hyperparam = bestK_index+1\n",
        "best_accuracy = rmse_K[bestK_index]\n",
        "print(best_accuracy,best_hyperparam)\n"
      ],
      "execution_count": null,
      "outputs": []
    },
    {
      "cell_type": "code",
      "metadata": {
        "colab": {
          "base_uri": "https://localhost:8080/"
        },
        "id": "XVRnD4TqFRVm",
        "outputId": "4e3f7d39-7604-403a-bafa-f307737354a1"
      },
      "source": [
        "\n",
        "#test on testset using the best K \n",
        "knn = KNeighborsRegressor(n_neighbors=best_hyperparam)\n",
        "knn.fit(trainingX, trainingY)\n",
        "y_train_pred=knn.predict(trainingX)\n",
        "rmse_training_k, mae_training_k = get_error_metrics(trainingY.values, y_train_pred)\n",
        "print(\"KNN training set (RMSE & MAE)\",rmse_training_k,mae_training_k)\n",
        "#test on testset using the best K \n",
        "knn = KNeighborsRegressor(n_neighbors=best_hyperparam)\n",
        "knn.fit(trainingX, trainingY)\n",
        "y_test_pred_knn=knn.predict(testingX)\n",
        "rmse_testing_k, mae_testing_k = get_error_metrics(testingY.values, y_test_pred_knn)\n",
        "print(\"KNN testset (RMSE & MAE)\",rmse_testing_k,mae_testing_k)"
      ],
      "execution_count": null,
      "outputs": [
        {
          "output_type": "stream",
          "text": [
            "KNN training set (RMSE & MAE) 0.7428954257299609 0.5600517068494358\n",
            "KNN testset (RMSE & MAE) 0.8378819556083741 0.6290844406981356\n"
          ],
          "name": "stdout"
        }
      ]
    },
    {
      "cell_type": "markdown",
      "metadata": {
        "id": "nhLwmeV2ZTi5"
      },
      "source": [
        "#Ridge regression model"
      ]
    },
    {
      "cell_type": "code",
      "metadata": {
        "id": "BbwSYAlHe1sc"
      },
      "source": [
        "from sklearn import linear_model\n",
        "hyperparams = [0, 0.1, 0.2, 0.3, 0.4, 0.5, 0.6, 0.7, 0.8, 0.9, 1.0, 1.1, 1.2, 1.3, 1.4, 1.5, 1.6, 1.7, 1.8, 1.9, 2.0, 2.1, 2.2, 2.3, 2.4, 2.5, 2.6, 2.7, 2.8, 2.9, 3.0]\n",
        "\n",
        "rmse=[]\n",
        "accuracies_ridge = []\n",
        "rms_avg=[]\n",
        "k_folds=5\n",
        "index = int(len(trainingX)/k_folds)\n",
        "rmse_ridge=[]\n",
        "mae_ridge=[]\n",
        "mae_avg=[]\n",
        "mae=[]\n",
        "for alpha in hyperparams:\n",
        "  rmse =[]\n",
        "  mae=[]\n",
        "  print(alpha)\n",
        "  for k_split in range(1,k_folds+1):\n",
        "      validation_data = trainingX[int((k_split-1))*index : int(k_split*index)]\n",
        "      validation_label = trainingY[int((k_split-1))*index : int(k_split*index)]\n",
        "\n",
        "      training1_data = trainingX[0:(k_split-1)*index]\n",
        "      training2_data =trainingX[k_split*index:]\n",
        "      training_data = np.concatenate((training1_data,training2_data)) \n",
        "\n",
        "      training1_label = trainingY[0:(k_split-1)*index]\n",
        "      training2_label =trainingY[k_split*index:]\n",
        "      training_label = np.concatenate((training1_label,training2_label))\n",
        "      \n",
        "      reg =linear_model.Ridge(alpha=alpha).fit(training_data, training_label)\n",
        "      y_test_pred = reg.predict(np.array(validation_data))\n",
        "      rmse_test, mae_test = get_error_metrics(np.array(validation_label), y_test_pred)\n",
        "      rmse.append(rmse_test)\n",
        "      mae.append(mae_test)\n",
        "  rms_avg.append(sum(rmse)/len(rmse))\n",
        "  mae_avg.append(sum(mae)/len(mae))\n",
        "  print(rms_avg)\n",
        "rmse_ridge = np.array(rms_avg)\n",
        "mae_ridge=np.array(mae_avg)\n",
        "  # Find the k which gives the highest accuracy to the validation sets\n",
        "best_ridge_index = np.argmin(rmse_ridge)\n",
        "best_hyperparam = best_ridge_index+1\n",
        "best_accuracy = rmse_ridge[best_ridge_index]\n",
        "print(best_accuracy,hyperparams[best_ridge_index])\n"
      ],
      "execution_count": null,
      "outputs": []
    },
    {
      "cell_type": "code",
      "metadata": {
        "colab": {
          "base_uri": "https://localhost:8080/"
        },
        "id": "8Wd5qiRvGDtj",
        "outputId": "fa6f5f67-2d8e-413c-a348-552a01bee29d"
      },
      "source": [
        "#test on testset using the best lambda \n",
        "reg =linear_model.Ridge(alpha=best_hyperparam).fit(trainingX, trainingY)\n",
        "y_test_pred_ridge = reg.predict(np.array(testingX))\n",
        "rmse_testing_ridge, mae_testing_ridge = get_error_metrics(testingY.values, y_test_pred_ridge)\n",
        "print(\"ridge regression testset RMSE AND MAE\",rmse_testing_ridge,mae_testing_ridge)\n",
        "#test on training set using the best lambda \n",
        "reg =linear_model.Ridge(alpha=best_hyperparam).fit(trainingX, trainingY)\n",
        "y_train_pred = reg.predict(np.array(trainingX))\n",
        "rmse_training_ridge, mae_training_ridge = get_error_metrics(trainingY.values, y_train_pred)\n",
        "print(\"ridge regression train RMSE AND MAE\",rmse_training_ridge,mae_training_ridge)"
      ],
      "execution_count": null,
      "outputs": [
        {
          "output_type": "stream",
          "text": [
            "ridge regression testset RMSE AND MAE 0.7831424986822175 0.5939813655960882\n"
          ],
          "name": "stdout"
        }
      ]
    },
    {
      "cell_type": "markdown",
      "metadata": {
        "id": "aa2D3BhyZaae"
      },
      "source": [
        "# Random Forest"
      ]
    },
    {
      "cell_type": "code",
      "metadata": {
        "id": "nVFcidNHZoCd"
      },
      "source": [
        "from sklearn.ensemble import RandomForestRegressor\n",
        "depth = [1,2,4,8,10,15,20,25,30]\n",
        "rmse=[]\n",
        "accuracies_ridge = []\n",
        "rms_avg=[]\n",
        "k_folds=5\n",
        "index = int(len(trainingX)/k_folds)\n",
        "rmse_rf=[]\n",
        "mae_rf=[]\n",
        "mae_avg=[]\n",
        "mae=[]\n",
        "\n",
        "#for est in n_estimators:\n",
        "for dep in depth:\n",
        "  rmse =[]\n",
        "  mae=[]\n",
        "  for k_split in range(1,k_folds+1):\n",
        "      validation_data = trainingX[int((k_split-1))*index : int(k_split*index)]\n",
        "      validation_label = trainingY[int((k_split-1))*index : int(k_split*index)]\n",
        "\n",
        "      training1_data = trainingX[0:(k_split-1)*index]\n",
        "      training2_data =trainingX[k_split*index:]\n",
        "      training_data = np.concatenate((training1_data,training2_data)) \n",
        "\n",
        "      training1_label = trainingY[0:(k_split-1)*index]\n",
        "      training2_label =trainingY[k_split*index:]\n",
        "      training_label = np.concatenate((training1_label,training2_label))\n",
        "      \n",
        "      rf = RandomForestRegressor(max_depth=dep,random_state=1).fit(training_data, training_label)\n",
        "      y_test_pred = rf.predict(np.array(validation_data))\n",
        "      \n",
        "      rmse_test, mae_test = get_error_metrics(np.array(validation_label), y_test_pred)\n",
        "      rmse.append(rmse_test)\n",
        "      mae.append(mae_test)\n",
        "  rms_avg.append(sum(rmse)/len(rmse))\n",
        "  mae_avg.append(sum(mae)/len(mae))\n",
        "  print(rms_avg)\n",
        "rmse_rf = np.array(rms_avg)\n",
        "mae_rf = np.array(mae_avg)\n",
        "best_rf_index = np.argmin(rmse_rf)\n",
        "best_accuracy = rmse_rf[best_rf_index]\n",
        "print(best_accuracy,depth[best_rf_index])\n",
        "\n"
      ],
      "execution_count": null,
      "outputs": []
    },
    {
      "cell_type": "code",
      "metadata": {
        "colab": {
          "base_uri": "https://localhost:8080/"
        },
        "id": "ixhv-hFzHbf8",
        "outputId": "3dac348c-7deb-4ee0-b217-b28aa2530f92"
      },
      "source": [
        "#test on testset using the best lambda \n",
        "rf = RandomForestRegressor(max_depth=depth[best_rf_index]).fit(trainingX, trainingY)\n",
        "y_test_pred_rf = rf.predict(np.array(testingX))\n",
        "rmse_testing_rf, mae_testing_rf = get_error_metrics(testingY.values, y_test_pred_rf)\n",
        "print(\"Random forest testset RMSE AND MAE\",rmse_testing_rf,mae_testing_rf)\n",
        "#test on training set using the best lambda \n",
        "rf = RandomForestRegressor(max_depth=depth[best_rf_index]).fit(trainingX, trainingY)\n",
        "y_train_pred = rf.predict(np.array(trainingX))\n",
        "rmse_training_rf, mae_training_rf = get_error_metrics(trainingY.values, y_train_pred)\n",
        "print(\"Random forest train RMSE AND MAE\",rmse_training_rf,mae_training_rf)"
      ],
      "execution_count": null,
      "outputs": [
        {
          "output_type": "stream",
          "text": [
            "Random forest testset RMSE AND MAE 0.7783513820193356 0.5846178844550683\n"
          ],
          "name": "stdout"
        }
      ]
    },
    {
      "cell_type": "markdown",
      "metadata": {
        "id": "7-mPjfYYUrBO"
      },
      "source": [
        "#paired_ttest_5x2cv testing\n"
      ]
    },
    {
      "cell_type": "code",
      "metadata": {
        "id": "Hu7b_AK8Uyl4"
      },
      "source": [
        "def score_diff(X_1, X_2, y_1, y_2,x1,x2):\n",
        "      #estimator1 = KNeighborsRegressor(n_neighbors=8)\n",
        "      #estimator1 = linear_model.Ridge(alpha=1.5)\n",
        "      estimator1=RandomForestRegressor(max_depth=10)\n",
        "      estimator2 =SVD(n_factors=100, biased=True, random_state=15)\n",
        "\n",
        "\n",
        "      estimator1.fit(X_1, y_1)\n",
        "      train_data_mf = Dataset.load_from_df(x1[['userId', 'movieId', 'rating']], reader)\n",
        "      cross_validate(estimator2, train_data_mf, measures=['RMSE', 'MAE'], cv=5, verbose=True)\n",
        "\n",
        "\n",
        "      y_test_pred_knn=estimator1.predict(X_2)\n",
        "      rmse_testing_k, mae_testing_k = get_error_metrics(y_2.values, y_test_pred_knn)\n",
        "\n",
        "      \n",
        "      test_data_mf = Dataset.load_from_df(x2[['userId', 'movieId', 'rating']], reader)\n",
        "      y_test_pred_baseline = estimator2.test(test_data_mf.build_full_trainset().build_testset())\n",
        "      rmse_testing_baseline=accuracy.rmse(y_test_pred_baseline)\n",
        "\n",
        "      score_diff = rmse_testing_k - rmse_testing_baseline\n",
        "      return score_diff\n"
      ],
      "execution_count": null,
      "outputs": []
    },
    {
      "cell_type": "code",
      "metadata": {
        "id": "FnE5R9bPUqag"
      },
      "source": [
        "first_diff=None\n",
        "rng = np.random.RandomState(None)\n",
        "variance_sum=0\n",
        "for i in range(5):\n",
        "   randint = rng.randint(low=0, high=32767)\n",
        "   X_1, X_2, y_1, y_2 = \\\n",
        "        train_test_split(testingX, testingY, test_size=0.5,\n",
        "                          random_state=randint)\n",
        "        \n",
        "   X_1_id = X_1.index\n",
        "   X_2_id=X_2.index\n",
        "   x1=merge_rating[merge_rating.index.isin(X_1_id)]\n",
        "   x2=merge_rating[merge_rating.index.isin(X_2_id)]\n",
        "\n",
        "   score_diff_1 = score_diff(X_1, X_2, y_1, y_2,x1,x2)\n",
        "   score_diff_2 = score_diff(X_2, X_1, y_2, y_1,x2,x1)\n",
        "   print(score_diff_1,score_diff_2)\n",
        "   score_mean = (score_diff_1 + score_diff_2) / 2.\n",
        "   score_var = ((score_diff_1 - score_mean)**2 +\n",
        "                  (score_diff_2 - score_mean)**2)\n",
        "   variance_sum += score_var\n",
        "   if first_diff is None:\n",
        "      first_diff = score_diff_1\n",
        "numerator = first_diff\n",
        "denominator = np.sqrt(1/5. * variance_sum)\n",
        "t_stat = numerator / denominator\n",
        "pvalue = stats.t.sf(np.abs(t_stat), 5)*2.\n",
        "pvalue"
      ],
      "execution_count": null,
      "outputs": []
    },
    {
      "cell_type": "code",
      "metadata": {
        "colab": {
          "base_uri": "https://localhost:8080/"
        },
        "id": "87WksMPth_cL",
        "outputId": "edc44c75-9081-4cee-c9d7-c9c5d5fc6501"
      },
      "source": [
        "#Significance test between hybrid models\n",
        "from mlxtend.evaluate import paired_ttest_5x2cv\n",
        "t, p_knn_ridge = paired_ttest_5x2cv(estimator1=knn,\n",
        "                          estimator2=reg,\n",
        "                          X=testingX, y=testingY,\n",
        "                          random_seed=1)\n",
        "print(\"The p value of testing the knn and ridge regression\",p_knn_ridge)\n",
        "\n",
        "\n",
        "t, p_knn_rf = paired_ttest_5x2cv(estimator1=knn,\n",
        "                          estimator2=rf,\n",
        "                          X=testingX, y=testingY,\n",
        "                          random_seed=1)\n",
        "\n",
        "print(\"The p value of testing the knn and random forest\",p_knn_rf)\n",
        "\n",
        "t, p_ridge_rf = paired_ttest_5x2cv(estimator1=reg,\n",
        "                          estimator2=rf,\n",
        "                          X=testingX, y=testingY,\n",
        "                          random_seed=1)\n",
        "print(\"The p value of testing the ridge regression and random forest\",p_ridge_rf)"
      ],
      "execution_count": null,
      "outputs": [
        {
          "output_type": "stream",
          "text": [
            "The p value of testing the knn and ridge regression 4.986640900024853e-05\n",
            "The p value of testing the knn and random forest 0.00035899336094726464\n",
            "The p value of testing the ridge regression and random forest 0.013204567921239321\n"
          ],
          "name": "stdout"
        }
      ]
    },
    {
      "cell_type": "markdown",
      "metadata": {
        "id": "-fOFvABjZm7c"
      },
      "source": [
        "#Prediction on testing set for each model"
      ]
    },
    {
      "cell_type": "code",
      "metadata": {
        "colab": {
          "base_uri": "https://localhost:8080/",
          "height": 404
        },
        "id": "7rOYIgPdD4VO",
        "outputId": "aa50d492-8ca9-4a03-898c-b71c09bc5719"
      },
      "source": [
        "\n",
        "def plot_prediction_plot(line0,line1,line2,line3,actual,userseq):\n",
        "  f,ax = plt.subplots(1,1,figsize=(16,6))\n",
        "  plt.plot(userseq[0:20],actual[0:20],label=\"actual rating\",marker='o')\n",
        "  plt.plot(userseq[0:20],line0[0:20],label=\"baseline model\",marker='o')\n",
        "\n",
        "  plt.plot(userseq[0:20],line1[0:20],label=\"knn prediction\",marker='o')\n",
        "  plt.plot(userseq[0:20], line2[0:20],label=\"ridge regression prediction\",marker='o')\n",
        "  plt.plot(userseq[0:20],line3[0:20],label=\"random forest prediction\",marker='o')\n",
        " \n",
        "  plt.ylabel('Rating')\n",
        "  plt.xlabel('First 20 user')\n",
        "  plt.title('Models comparison of rating predictions for first 20 testing user')\n",
        "  plt.legend()\n",
        "  plt.show() \n",
        "plot_prediction_plot(test_preds_mf,y_test_pred_knn,y_test_pred_ridge,y_test_pred_rf,testingY.values,list(range(0,len(y_test_pred))))"
      ],
      "execution_count": null,
      "outputs": [
        {
          "output_type": "display_data",
          "data": {
            "image/png": "[encoded data removed]",
            "text/plain": [
              "<Figure size 1152x432 with 1 Axes>"
            ]
          },
          "metadata": {
            "tags": [],
            "needs_background": "light"
          }
        }
      ]
    },
    {
      "cell_type": "markdown",
      "metadata": {
        "id": "yVj4h2DNZ-AZ"
      },
      "source": [
        "Take a closer look on the mis-predicted user - the 9th user \n",
        "Explore the user - movie "
      ]
    },
    {
      "cell_type": "code",
      "metadata": {
        "colab": {
          "base_uri": "https://localhost:8080/"
        },
        "id": "kOYDP2lpZvmh",
        "outputId": "265a49f5-3792-4664-b605-701ac7da96ea"
      },
      "source": [
        "testingX.iloc[12]\n",
        "merge_rating.iloc[67217]\n"
      ],
      "execution_count": null,
      "outputs": [
        {
          "output_type": "execute_result",
          "data": {
            "text/plain": [
              "Unnamed: 0                             67217\n",
              "movieId                                 5445\n",
              "title                 Minority Report (2002)\n",
              "userId                                   414\n",
              "rating                                     5\n",
              "matrix_fact_predit                   2.22626\n",
              "similarMovie1                            3.5\n",
              "similarMovie2                              3\n",
              "similarMovie3                              4\n",
              "similarUser1                               4\n",
              "similarUser2                             3.5\n",
              "similarUser3                             2.5\n",
              "user_rating_avg                      3.39196\n",
              "movie_rating_avg                      3.6375\n",
              "Name: 67217, dtype: object"
            ]
          },
          "metadata": {
            "tags": []
          },
          "execution_count": 85
        }
      ]
    },
    {
      "cell_type": "code",
      "metadata": {
        "colab": {
          "base_uri": "https://localhost:8080/",
          "height": 516
        },
        "id": "6F7ErxnDWjBH",
        "outputId": "b7a9ca00-2c15-4b99-e374-729e5b81cfa4"
      },
      "source": [
        "total = merge_rating.iloc[67217]\n",
        "user_outlier = merge_rating[merge_rating[\"userId\"]==414][\"rating\"]\n",
        "print(user_outlier)\n",
        "movieId_outlier = merge_rating[merge_rating[\"userId\"]==414][\"movieId\"]\n",
        "stats_rating_outlier = [0,0,0,0,0]\n",
        "for rate in user_outlier:\n",
        "  if (rate<=1):\n",
        "    stats_rating_outlier[0]+=1\n",
        "  if (rate<=2 and rate>1):\n",
        "     stats_rating_outlier[1]+=1\n",
        "  if (rate<=3 and rate>2):\n",
        "     stats_rating_outlier[2]+=1\n",
        "  if (rate<=4 and rate>3):\n",
        "     stats_rating_outlier[3]+=1\n",
        "  if (rate<=5 and rate>4):\n",
        "     stats_rating_outlier[4]+=1\n",
        "\n",
        "\n",
        "bars = ('1', '2', '3', '4', '5')\n",
        "y_pos = np.arange(len(bars))\n",
        "\n",
        "# Create bars\n",
        "plt.bar(y_pos, stats_rating_outlier,color=[\"red\",\"orange\",\"green\",\"lightblue\",\"purple\"])\n",
        "plt.title(\"Distribution of the userId = 414 rating\")\n",
        "plt.xlabel(\"rating\")\n",
        "plt.ylabel(\"count\")\n",
        "# Create names on the x-axis\n",
        "plt.xticks(y_pos, bars)\n",
        "# Show graphic\n",
        "plt.show()\n",
        "print (1-(stats_rating_outlier[4])/sum(stats_rating_outlier))"
      ],
      "execution_count": null,
      "outputs": [
        {
          "output_type": "stream",
          "text": [
            "146       4.0\n",
            "281       3.0\n",
            "361       4.0\n",
            "414       2.0\n",
            "502       3.0\n",
            "         ... \n",
            "100691    4.0\n",
            "100701    4.0\n",
            "100705    3.5\n",
            "100762    2.5\n",
            "100799    3.5\n",
            "Name: rating, Length: 2698, dtype: float64\n"
          ],
          "name": "stdout"
        },
        {
          "output_type": "display_data",
          "data": {
            "image/png": "[encoded data removed]",
            "text/plain": [
              "<Figure size 432x288 with 1 Axes>"
            ]
          },
          "metadata": {
            "tags": [],
            "needs_background": "light"
          }
        },
        {
          "output_type": "stream",
          "text": [
            "0.8799110452186805\n"
          ],
          "name": "stdout"
        }
      ]
    },
    {
      "cell_type": "code",
      "metadata": {
        "colab": {
          "base_uri": "https://localhost:8080/"
        },
        "id": "dGBzdLgCbRol",
        "outputId": "ddaa3bee-4c0f-42d0-fb01-edbbd01b605e"
      },
      "source": [
        "np.array(movieId_outlier)"
      ],
      "execution_count": null,
      "outputs": [
        {
          "output_type": "execute_result",
          "data": {
            "text/plain": [
              "array([     1,      2,      3, ..., 180985, 184791, 187595])"
            ]
          },
          "metadata": {
            "tags": []
          },
          "execution_count": 135
        }
      ]
    },
    {
      "cell_type": "code",
      "metadata": {
        "colab": {
          "base_uri": "https://localhost:8080/",
          "height": 419
        },
        "id": "9SVWt2SnezVr",
        "outputId": "33800dfc-96ed-401e-c418-c731ac06ead0"
      },
      "source": [
        "merge_rating[merge_rating[\"movieId\"] == 5445]"
      ],
      "execution_count": null,
      "outputs": [
        {
          "output_type": "execute_result",
          "data": {
            "text/html": [
              "<div>\n",
              "<style scoped>\n",
              "    .dataframe tbody tr th:only-of-type {\n",
              "        vertical-align: middle;\n",
              "    }\n",
              "\n",
              "    .dataframe tbody tr th {\n",
              "        vertical-align: top;\n",
              "    }\n",
              "\n",
              "    .dataframe thead th {\n",
              "        text-align: right;\n",
              "    }\n",
              "</style>\n",
              "<table border=\"1\" class=\"dataframe\">\n",
              "  <thead>\n",
              "    <tr style=\"text-align: right;\">\n",
              "      <th></th>\n",
              "      <th>Unnamed: 0</th>\n",
              "      <th>movieId</th>\n",
              "      <th>title</th>\n",
              "      <th>userId</th>\n",
              "      <th>rating</th>\n",
              "      <th>matrix_fact_predit</th>\n",
              "      <th>similarMovie1</th>\n",
              "      <th>similarMovie2</th>\n",
              "      <th>similarMovie3</th>\n",
              "      <th>similarUser1</th>\n",
              "      <th>similarUser2</th>\n",
              "      <th>similarUser3</th>\n",
              "      <th>user_rating_avg</th>\n",
              "      <th>movie_rating_avg</th>\n",
              "    </tr>\n",
              "  </thead>\n",
              "  <tbody>\n",
              "    <tr>\n",
              "      <th>67135</th>\n",
              "      <td>67135</td>\n",
              "      <td>5445</td>\n",
              "      <td>Minority Report (2002)</td>\n",
              "      <td>7</td>\n",
              "      <td>4.0</td>\n",
              "      <td>3.690461</td>\n",
              "      <td>3.0</td>\n",
              "      <td>4.5</td>\n",
              "      <td>4.0</td>\n",
              "      <td>3.5</td>\n",
              "      <td>4.0</td>\n",
              "      <td>4.0</td>\n",
              "      <td>3.230263</td>\n",
              "      <td>3.6375</td>\n",
              "    </tr>\n",
              "    <tr>\n",
              "      <th>67136</th>\n",
              "      <td>67136</td>\n",
              "      <td>5445</td>\n",
              "      <td>Minority Report (2002)</td>\n",
              "      <td>9</td>\n",
              "      <td>4.0</td>\n",
              "      <td>3.423342</td>\n",
              "      <td>5.0</td>\n",
              "      <td>1.0</td>\n",
              "      <td>4.0</td>\n",
              "      <td>3.5</td>\n",
              "      <td>2.0</td>\n",
              "      <td>2.0</td>\n",
              "      <td>3.260870</td>\n",
              "      <td>3.6375</td>\n",
              "    </tr>\n",
              "    <tr>\n",
              "      <th>67137</th>\n",
              "      <td>67137</td>\n",
              "      <td>5445</td>\n",
              "      <td>Minority Report (2002)</td>\n",
              "      <td>15</td>\n",
              "      <td>4.0</td>\n",
              "      <td>3.687907</td>\n",
              "      <td>3.0</td>\n",
              "      <td>4.0</td>\n",
              "      <td>5.0</td>\n",
              "      <td>3.0</td>\n",
              "      <td>3.5</td>\n",
              "      <td>3.5</td>\n",
              "      <td>3.448148</td>\n",
              "      <td>3.6375</td>\n",
              "    </tr>\n",
              "    <tr>\n",
              "      <th>67138</th>\n",
              "      <td>67138</td>\n",
              "      <td>5445</td>\n",
              "      <td>Minority Report (2002)</td>\n",
              "      <td>18</td>\n",
              "      <td>4.0</td>\n",
              "      <td>3.186452</td>\n",
              "      <td>4.0</td>\n",
              "      <td>4.5</td>\n",
              "      <td>3.5</td>\n",
              "      <td>3.5</td>\n",
              "      <td>4.0</td>\n",
              "      <td>4.5</td>\n",
              "      <td>3.732072</td>\n",
              "      <td>3.6375</td>\n",
              "    </tr>\n",
              "    <tr>\n",
              "      <th>67139</th>\n",
              "      <td>67139</td>\n",
              "      <td>5445</td>\n",
              "      <td>Minority Report (2002)</td>\n",
              "      <td>20</td>\n",
              "      <td>4.5</td>\n",
              "      <td>3.866852</td>\n",
              "      <td>3.0</td>\n",
              "      <td>4.5</td>\n",
              "      <td>5.0</td>\n",
              "      <td>4.0</td>\n",
              "      <td>4.0</td>\n",
              "      <td>2.5</td>\n",
              "      <td>3.590909</td>\n",
              "      <td>3.6375</td>\n",
              "    </tr>\n",
              "    <tr>\n",
              "      <th>...</th>\n",
              "      <td>...</td>\n",
              "      <td>...</td>\n",
              "      <td>...</td>\n",
              "      <td>...</td>\n",
              "      <td>...</td>\n",
              "      <td>...</td>\n",
              "      <td>...</td>\n",
              "      <td>...</td>\n",
              "      <td>...</td>\n",
              "      <td>...</td>\n",
              "      <td>...</td>\n",
              "      <td>...</td>\n",
              "      <td>...</td>\n",
              "      <td>...</td>\n",
              "    </tr>\n",
              "    <tr>\n",
              "      <th>67250</th>\n",
              "      <td>67250</td>\n",
              "      <td>5445</td>\n",
              "      <td>Minority Report (2002)</td>\n",
              "      <td>599</td>\n",
              "      <td>2.5</td>\n",
              "      <td>2.800206</td>\n",
              "      <td>3.0</td>\n",
              "      <td>2.0</td>\n",
              "      <td>2.5</td>\n",
              "      <td>3.5</td>\n",
              "      <td>4.0</td>\n",
              "      <td>2.5</td>\n",
              "      <td>2.642050</td>\n",
              "      <td>3.6375</td>\n",
              "    </tr>\n",
              "    <tr>\n",
              "      <th>67251</th>\n",
              "      <td>67251</td>\n",
              "      <td>5445</td>\n",
              "      <td>Minority Report (2002)</td>\n",
              "      <td>601</td>\n",
              "      <td>4.0</td>\n",
              "      <td>2.172985</td>\n",
              "      <td>4.5</td>\n",
              "      <td>5.0</td>\n",
              "      <td>5.0</td>\n",
              "      <td>4.5</td>\n",
              "      <td>4.5</td>\n",
              "      <td>3.0</td>\n",
              "      <td>4.425743</td>\n",
              "      <td>3.6375</td>\n",
              "    </tr>\n",
              "    <tr>\n",
              "      <th>67252</th>\n",
              "      <td>67252</td>\n",
              "      <td>5445</td>\n",
              "      <td>Minority Report (2002)</td>\n",
              "      <td>606</td>\n",
              "      <td>4.0</td>\n",
              "      <td>2.008988</td>\n",
              "      <td>3.5</td>\n",
              "      <td>3.0</td>\n",
              "      <td>3.5</td>\n",
              "      <td>2.5</td>\n",
              "      <td>4.0</td>\n",
              "      <td>3.5</td>\n",
              "      <td>3.657399</td>\n",
              "      <td>3.6375</td>\n",
              "    </tr>\n",
              "    <tr>\n",
              "      <th>67253</th>\n",
              "      <td>67253</td>\n",
              "      <td>5445</td>\n",
              "      <td>Minority Report (2002)</td>\n",
              "      <td>608</td>\n",
              "      <td>4.5</td>\n",
              "      <td>3.263961</td>\n",
              "      <td>4.5</td>\n",
              "      <td>4.5</td>\n",
              "      <td>4.0</td>\n",
              "      <td>4.0</td>\n",
              "      <td>3.5</td>\n",
              "      <td>4.0</td>\n",
              "      <td>3.134176</td>\n",
              "      <td>3.6375</td>\n",
              "    </tr>\n",
              "    <tr>\n",
              "      <th>67254</th>\n",
              "      <td>67254</td>\n",
              "      <td>5445</td>\n",
              "      <td>Minority Report (2002)</td>\n",
              "      <td>610</td>\n",
              "      <td>4.0</td>\n",
              "      <td>2.965526</td>\n",
              "      <td>4.0</td>\n",
              "      <td>4.0</td>\n",
              "      <td>3.5</td>\n",
              "      <td>3.5</td>\n",
              "      <td>4.0</td>\n",
              "      <td>2.0</td>\n",
              "      <td>3.688556</td>\n",
              "      <td>3.6375</td>\n",
              "    </tr>\n",
              "  </tbody>\n",
              "</table>\n",
              "<p>120 rows × 14 columns</p>\n",
              "</div>"
            ],
            "text/plain": [
              "       Unnamed: 0  movieId  ... user_rating_avg  movie_rating_avg\n",
              "67135       67135     5445  ...        3.230263            3.6375\n",
              "67136       67136     5445  ...        3.260870            3.6375\n",
              "67137       67137     5445  ...        3.448148            3.6375\n",
              "67138       67138     5445  ...        3.732072            3.6375\n",
              "67139       67139     5445  ...        3.590909            3.6375\n",
              "...           ...      ...  ...             ...               ...\n",
              "67250       67250     5445  ...        2.642050            3.6375\n",
              "67251       67251     5445  ...        4.425743            3.6375\n",
              "67252       67252     5445  ...        3.657399            3.6375\n",
              "67253       67253     5445  ...        3.134176            3.6375\n",
              "67254       67254     5445  ...        3.688556            3.6375\n",
              "\n",
              "[120 rows x 14 columns]"
            ]
          },
          "metadata": {
            "tags": []
          },
          "execution_count": 178
        }
      ]
    },
    {
      "cell_type": "code",
      "metadata": {
        "colab": {
          "base_uri": "https://localhost:8080/",
          "height": 312
        },
        "id": "6aXxnX3wbVpH",
        "outputId": "f7b8e3b9-72f7-48bb-a656-181104f77bae"
      },
      "source": [
        "movie_list= movies[movies[\"movieId\"].isin(movieId_outlier)][\"genres\"]\n",
        "movie_outlier = merge_rating[merge_rating[\"movieId\"]==5445]\n",
        "movie_rating_list = movie_outlier[\"rating\"]\n",
        "#\n",
        "movie_rating_list\n",
        "stats_rating_outlier=[0,0,0,0,0]\n",
        "for rate in movie_rating_list:\n",
        "  if (rate<=1):\n",
        "    stats_rating_outlier[0]+=1\n",
        "  if (rate<=2 and rate>1):\n",
        "     stats_rating_outlier[1]+=1\n",
        "  if (rate<=3 and rate>2):\n",
        "     stats_rating_outlier[2]+=1\n",
        "  if (rate<=4 and rate>3):\n",
        "     stats_rating_outlier[3]+=1\n",
        "  if (rate<=5 and rate>4):\n",
        "     stats_rating_outlier[4]+=1\n",
        "\n",
        "\n",
        "bars = ('1', '2', '3', '4', '5')\n",
        "y_pos = np.arange(len(bars))\n",
        "\n",
        "# Create bars\n",
        "plt.bar(y_pos, stats_rating_outlier,color=[\"red\",\"orange\",\"green\",\"lightblue\",\"purple\"])\n",
        "plt.title(\"Distribution of the ratings for movieId = 5445(Minority Report (2002))\")\n",
        "plt.xlabel(\"rating\")\n",
        "plt.ylabel(\"count\")\n",
        "# Create names on the x-axis\n",
        "plt.xticks(y_pos, bars)\n",
        "# Show graphic\n",
        "plt.show()\n"
      ],
      "execution_count": null,
      "outputs": [
        {
          "output_type": "display_data",
          "data": {
            "image/png": "[encoded data removed]",
            "text/plain": [
              "<Figure size 432x288 with 1 Axes>"
            ]
          },
          "metadata": {
            "tags": [],
            "needs_background": "light"
          }
        },
        {
          "output_type": "stream",
          "text": [
            "0.18333333333333332\n"
          ],
          "name": "stdout"
        }
      ]
    },
    {
      "cell_type": "markdown",
      "metadata": {
        "id": "WD7ZUf-eXGbp"
      },
      "source": [
        "#Parameter tuning plot"
      ]
    },
    {
      "cell_type": "code",
      "metadata": {
        "colab": {
          "base_uri": "https://localhost:8080/",
          "height": 295
        },
        "id": "1k8EIbnMrM3h",
        "outputId": "53246dec-acda-4bfe-d74a-2fae4f20e26f"
      },
      "source": [
        "\n",
        "def plot_ridge_accuracies(rmse,mae,hyperparams):\n",
        "  #plt.plot(hyperparams,rmse,label=\"RMSE\",marker='o')\n",
        "  plt.plot(hyperparams, mae,label=\"MAE\",marker='o')\n",
        "  plt.ylabel('error')\n",
        "  plt.xlabel('lambda')\n",
        "  plt.title('Ridge regression MAE')\n",
        "  plt.legend()\n",
        "  plt.show() \n",
        "plot_ridge_accuracies(rmse_ridge,mae_ridge,hyperparams)\n"
      ],
      "execution_count": null,
      "outputs": [
        {
          "output_type": "display_data",
          "data": {
            "image/png": "[encoded data removed]",
            "text/plain": [
              "<Figure size 432x288 with 1 Axes>"
            ]
          },
          "metadata": {
            "tags": [],
            "needs_background": "light"
          }
        }
      ]
    },
    {
      "cell_type": "code",
      "metadata": {
        "colab": {
          "base_uri": "https://localhost:8080/",
          "height": 295
        },
        "id": "D6lPIunAa52O",
        "outputId": "e0d89c65-23be-4db4-aeea-fc1c9ba48550"
      },
      "source": [
        "def plot_knn_accuracies(rmse,mae,hyperparams):\n",
        "  plt.plot(hyperparams,rmse,label=\"RMSE\",marker='o')\n",
        "  plt.ylabel('error')\n",
        "  plt.xlabel('k neighbor')\n",
        "  plt.plot(hyperparams, mae,label=\"MAE\",marker='o')\n",
        "  plt.legend()\n",
        "  plt.title('K neighbours validation accuracy')\n",
        "  plt.show() \n",
        "plot_knn_accuracies(rmse_K,mae_K,hyperparams_k)\n",
        "\n",
        "\n"
      ],
      "execution_count": null,
      "outputs": [
        {
          "output_type": "display_data",
          "data": {
            "image/png": "[encoded data removed]",
            "text/plain": [
              "<Figure size 432x288 with 1 Axes>"
            ]
          },
          "metadata": {
            "tags": [],
            "needs_background": "light"
          }
        }
      ]
    },
    {
      "cell_type": "code",
      "metadata": {
        "colab": {
          "base_uri": "https://localhost:8080/",
          "height": 295
        },
        "id": "Zxd-I2MTrMQU",
        "outputId": "84cb87e3-0e5d-46ee-ce27-9431b915f65e"
      },
      "source": [
        "def plot_rf_accuracies(rmse,mae,hyperparams):\n",
        "  plt.plot(hyperparams,rmse,label=\"RMSE\",marker='o')\n",
        "  plt.plot(hyperparams, mae,label=\"MAE\",marker='o')\n",
        "  plt.ylabel('error')\n",
        "  plt.xlabel('depth')\n",
        "  plt.title('Random forest validation accuracy')\n",
        "  plt.legend()\n",
        "  plt.show() \n",
        "plot_rf_accuracies(rmse_rf,mae_rf,depth)"
      ],
      "execution_count": null,
      "outputs": [
        {
          "output_type": "display_data",
          "data": {
            "image/png": "[encoded data removed]",
            "text/plain": [
              "<Figure size 432x288 with 1 Axes>"
            ]
          },
          "metadata": {
            "tags": [],
            "needs_background": "light"
          }
        }
      ]
    },
    {
      "cell_type": "markdown",
      "metadata": {
        "id": "lL2xCzewgCsO"
      },
      "source": [
        "Test on only collaborative learning/ contentent learning/ average / hybrid "
      ]
    },
    {
      "cell_type": "code",
      "metadata": {
        "colab": {
          "base_uri": "https://localhost:8080/",
          "height": 610
        },
        "id": "3_m0dbMfiET-",
        "outputId": "d572e895-9993-4127-9087-d48af3ac5de6"
      },
      "source": [
        "N = 3\n",
        "\n",
        "only_similar_users = [0.9713190907517594, 0.9379208312744081, 0.9310010456760595]\n",
        "only_similar_movies= [0.9554112020527771, 0.9054181097197858, 0.9056947797038446]\n",
        "only_average_data = [ 0.8593602398101952, 0.8329874450894343, 0.8240920703235542]\n",
        "\n",
        "hybrid_data = [0.822613451645519, 0.7879353190756577, 0.7797844739556792]\n",
        "f,ax = plt.subplots(1,1,figsize=(10,10))\n",
        "\n",
        "ind = np.arange(N) \n",
        "width = 0.1       \n",
        "plt.bar(ind, only_similar_users, width, label='Only collaborative filter features')\n",
        "plt.bar(ind + width, only_similar_movies, width,\n",
        "    label='Only content-based features')\n",
        "plt.bar(ind+2*width, only_average_data, width, label='Only averages')\n",
        "plt.bar(ind+3*width , hybrid_data, width,\n",
        "    label='Hybrid model')\n",
        "plt.xlabel('models')\n",
        "plt.ylabel('RMSE')\n",
        "plt.ylim((0.5, 1))   # set the ylim to bottom, top\n",
        "\n",
        "plt.xticks(ind + width / 2, ('KNN', 'ridge regression', 'Random forest'))\n",
        "plt.legend(loc='best')\n",
        "plt.show()"
      ],
      "execution_count": null,
      "outputs": [
        {
          "output_type": "display_data",
          "data": {
            "image/png": "[encoded data removed]",
            "text/plain": [
              "<Figure size 720x720 with 1 Axes>"
            ]
          },
          "metadata": {
            "tags": [],
            "needs_background": "light"
          }
        }
      ]
    }
  ]
}